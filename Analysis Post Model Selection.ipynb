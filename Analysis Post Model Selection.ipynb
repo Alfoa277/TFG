{
 "cells": [
  {
   "cell_type": "code",
   "execution_count": 26,
   "id": "8b8b3da0",
   "metadata": {
    "ExecuteTime": {
     "end_time": "2023-04-28T11:36:37.177254Z",
     "start_time": "2023-04-28T11:36:33.202157Z"
    },
    "tags": []
   },
   "outputs": [
    {
     "data": {
      "text/html": [
       "<div>\n",
       "<style scoped>\n",
       "    .dataframe tbody tr th:only-of-type {\n",
       "        vertical-align: middle;\n",
       "    }\n",
       "\n",
       "    .dataframe tbody tr th {\n",
       "        vertical-align: top;\n",
       "    }\n",
       "\n",
       "    .dataframe thead th {\n",
       "        text-align: right;\n",
       "    }\n",
       "</style>\n",
       "<table border=\"1\" class=\"dataframe\">\n",
       "  <thead>\n",
       "    <tr style=\"text-align: right;\">\n",
       "      <th></th>\n",
       "      <th>TYPEÃtico</th>\n",
       "      <th>TYPECasa.de.pueblo</th>\n",
       "      <th>TYPECasa.o.chalet.independiente</th>\n",
       "      <th>TYPECasa.rural</th>\n",
       "      <th>TYPECasa.rÃºstica</th>\n",
       "      <th>TYPECasa.terrera</th>\n",
       "      <th>TYPECaserÃ³n</th>\n",
       "      <th>TYPECastillo</th>\n",
       "      <th>TYPEChalet</th>\n",
       "      <th>TYPEChalet.adosado</th>\n",
       "      <th>...</th>\n",
       "      <th>TOWNzizur.mayorzizur.nagusia</th>\n",
       "      <th>ROOMS</th>\n",
       "      <th>AREA</th>\n",
       "      <th>FLOOR</th>\n",
       "      <th>LOCATIONexterior</th>\n",
       "      <th>LOCATIONinterior</th>\n",
       "      <th>ELEVATORFalse</th>\n",
       "      <th>PRICE</th>\n",
       "      <th>GARAGEFALSE</th>\n",
       "      <th>POPULATION</th>\n",
       "    </tr>\n",
       "  </thead>\n",
       "  <tbody>\n",
       "    <tr>\n",
       "      <th>0</th>\n",
       "      <td>0</td>\n",
       "      <td>0</td>\n",
       "      <td>0</td>\n",
       "      <td>0</td>\n",
       "      <td>0</td>\n",
       "      <td>0</td>\n",
       "      <td>0</td>\n",
       "      <td>0</td>\n",
       "      <td>0</td>\n",
       "      <td>0</td>\n",
       "      <td>...</td>\n",
       "      <td>0</td>\n",
       "      <td>3</td>\n",
       "      <td>92</td>\n",
       "      <td>3</td>\n",
       "      <td>1</td>\n",
       "      <td>0</td>\n",
       "      <td>0</td>\n",
       "      <td>650</td>\n",
       "      <td>0</td>\n",
       "      <td>244700</td>\n",
       "    </tr>\n",
       "    <tr>\n",
       "      <th>1</th>\n",
       "      <td>0</td>\n",
       "      <td>0</td>\n",
       "      <td>0</td>\n",
       "      <td>0</td>\n",
       "      <td>0</td>\n",
       "      <td>0</td>\n",
       "      <td>0</td>\n",
       "      <td>0</td>\n",
       "      <td>0</td>\n",
       "      <td>0</td>\n",
       "      <td>...</td>\n",
       "      <td>0</td>\n",
       "      <td>4</td>\n",
       "      <td>110</td>\n",
       "      <td>3</td>\n",
       "      <td>1</td>\n",
       "      <td>0</td>\n",
       "      <td>0</td>\n",
       "      <td>750</td>\n",
       "      <td>0</td>\n",
       "      <td>244700</td>\n",
       "    </tr>\n",
       "    <tr>\n",
       "      <th>2</th>\n",
       "      <td>0</td>\n",
       "      <td>0</td>\n",
       "      <td>0</td>\n",
       "      <td>0</td>\n",
       "      <td>0</td>\n",
       "      <td>0</td>\n",
       "      <td>0</td>\n",
       "      <td>0</td>\n",
       "      <td>0</td>\n",
       "      <td>0</td>\n",
       "      <td>...</td>\n",
       "      <td>0</td>\n",
       "      <td>0</td>\n",
       "      <td>28</td>\n",
       "      <td>0</td>\n",
       "      <td>1</td>\n",
       "      <td>0</td>\n",
       "      <td>0</td>\n",
       "      <td>500</td>\n",
       "      <td>0</td>\n",
       "      <td>244700</td>\n",
       "    </tr>\n",
       "    <tr>\n",
       "      <th>3</th>\n",
       "      <td>0</td>\n",
       "      <td>0</td>\n",
       "      <td>0</td>\n",
       "      <td>0</td>\n",
       "      <td>0</td>\n",
       "      <td>0</td>\n",
       "      <td>0</td>\n",
       "      <td>0</td>\n",
       "      <td>0</td>\n",
       "      <td>0</td>\n",
       "      <td>...</td>\n",
       "      <td>0</td>\n",
       "      <td>2</td>\n",
       "      <td>74</td>\n",
       "      <td>1</td>\n",
       "      <td>1</td>\n",
       "      <td>0</td>\n",
       "      <td>1</td>\n",
       "      <td>900</td>\n",
       "      <td>0</td>\n",
       "      <td>244700</td>\n",
       "    </tr>\n",
       "    <tr>\n",
       "      <th>4</th>\n",
       "      <td>0</td>\n",
       "      <td>0</td>\n",
       "      <td>0</td>\n",
       "      <td>0</td>\n",
       "      <td>0</td>\n",
       "      <td>0</td>\n",
       "      <td>0</td>\n",
       "      <td>0</td>\n",
       "      <td>0</td>\n",
       "      <td>0</td>\n",
       "      <td>...</td>\n",
       "      <td>0</td>\n",
       "      <td>4</td>\n",
       "      <td>80</td>\n",
       "      <td>4</td>\n",
       "      <td>1</td>\n",
       "      <td>0</td>\n",
       "      <td>0</td>\n",
       "      <td>650</td>\n",
       "      <td>0</td>\n",
       "      <td>244700</td>\n",
       "    </tr>\n",
       "    <tr>\n",
       "      <th>...</th>\n",
       "      <td>...</td>\n",
       "      <td>...</td>\n",
       "      <td>...</td>\n",
       "      <td>...</td>\n",
       "      <td>...</td>\n",
       "      <td>...</td>\n",
       "      <td>...</td>\n",
       "      <td>...</td>\n",
       "      <td>...</td>\n",
       "      <td>...</td>\n",
       "      <td>...</td>\n",
       "      <td>...</td>\n",
       "      <td>...</td>\n",
       "      <td>...</td>\n",
       "      <td>...</td>\n",
       "      <td>...</td>\n",
       "      <td>...</td>\n",
       "      <td>...</td>\n",
       "      <td>...</td>\n",
       "      <td>...</td>\n",
       "      <td>...</td>\n",
       "    </tr>\n",
       "    <tr>\n",
       "      <th>54933</th>\n",
       "      <td>0</td>\n",
       "      <td>0</td>\n",
       "      <td>0</td>\n",
       "      <td>1</td>\n",
       "      <td>0</td>\n",
       "      <td>0</td>\n",
       "      <td>0</td>\n",
       "      <td>0</td>\n",
       "      <td>0</td>\n",
       "      <td>0</td>\n",
       "      <td>...</td>\n",
       "      <td>0</td>\n",
       "      <td>9</td>\n",
       "      <td>400</td>\n",
       "      <td>-1</td>\n",
       "      <td>0</td>\n",
       "      <td>0</td>\n",
       "      <td>0</td>\n",
       "      <td>2000</td>\n",
       "      <td>0</td>\n",
       "      <td>2581</td>\n",
       "    </tr>\n",
       "    <tr>\n",
       "      <th>54934</th>\n",
       "      <td>0</td>\n",
       "      <td>1</td>\n",
       "      <td>0</td>\n",
       "      <td>0</td>\n",
       "      <td>0</td>\n",
       "      <td>0</td>\n",
       "      <td>0</td>\n",
       "      <td>0</td>\n",
       "      <td>0</td>\n",
       "      <td>0</td>\n",
       "      <td>...</td>\n",
       "      <td>0</td>\n",
       "      <td>3</td>\n",
       "      <td>150</td>\n",
       "      <td>-1</td>\n",
       "      <td>0</td>\n",
       "      <td>0</td>\n",
       "      <td>0</td>\n",
       "      <td>750</td>\n",
       "      <td>1</td>\n",
       "      <td>2581</td>\n",
       "    </tr>\n",
       "    <tr>\n",
       "      <th>54935</th>\n",
       "      <td>0</td>\n",
       "      <td>0</td>\n",
       "      <td>0</td>\n",
       "      <td>1</td>\n",
       "      <td>0</td>\n",
       "      <td>0</td>\n",
       "      <td>0</td>\n",
       "      <td>0</td>\n",
       "      <td>0</td>\n",
       "      <td>0</td>\n",
       "      <td>...</td>\n",
       "      <td>0</td>\n",
       "      <td>2</td>\n",
       "      <td>84</td>\n",
       "      <td>-1</td>\n",
       "      <td>0</td>\n",
       "      <td>0</td>\n",
       "      <td>0</td>\n",
       "      <td>400</td>\n",
       "      <td>1</td>\n",
       "      <td>2581</td>\n",
       "    </tr>\n",
       "    <tr>\n",
       "      <th>54936</th>\n",
       "      <td>0</td>\n",
       "      <td>0</td>\n",
       "      <td>0</td>\n",
       "      <td>0</td>\n",
       "      <td>0</td>\n",
       "      <td>0</td>\n",
       "      <td>0</td>\n",
       "      <td>0</td>\n",
       "      <td>0</td>\n",
       "      <td>0</td>\n",
       "      <td>...</td>\n",
       "      <td>0</td>\n",
       "      <td>2</td>\n",
       "      <td>102</td>\n",
       "      <td>-1</td>\n",
       "      <td>0</td>\n",
       "      <td>0</td>\n",
       "      <td>0</td>\n",
       "      <td>1000</td>\n",
       "      <td>1</td>\n",
       "      <td>2581</td>\n",
       "    </tr>\n",
       "    <tr>\n",
       "      <th>54937</th>\n",
       "      <td>0</td>\n",
       "      <td>0</td>\n",
       "      <td>1</td>\n",
       "      <td>0</td>\n",
       "      <td>0</td>\n",
       "      <td>0</td>\n",
       "      <td>0</td>\n",
       "      <td>0</td>\n",
       "      <td>0</td>\n",
       "      <td>0</td>\n",
       "      <td>...</td>\n",
       "      <td>0</td>\n",
       "      <td>3</td>\n",
       "      <td>350</td>\n",
       "      <td>-1</td>\n",
       "      <td>0</td>\n",
       "      <td>0</td>\n",
       "      <td>0</td>\n",
       "      <td>700</td>\n",
       "      <td>1</td>\n",
       "      <td>2581</td>\n",
       "    </tr>\n",
       "  </tbody>\n",
       "</table>\n",
       "<p>54938 rows × 842 columns</p>\n",
       "</div>"
      ],
      "text/plain": [
       "       TYPEÃtico  TYPECasa.de.pueblo  TYPECasa.o.chalet.independiente   \n",
       "0               0                   0                                0  \\\n",
       "1               0                   0                                0   \n",
       "2               0                   0                                0   \n",
       "3               0                   0                                0   \n",
       "4               0                   0                                0   \n",
       "...           ...                 ...                              ...   \n",
       "54933           0                   0                                0   \n",
       "54934           0                   1                                0   \n",
       "54935           0                   0                                0   \n",
       "54936           0                   0                                0   \n",
       "54937           0                   0                                1   \n",
       "\n",
       "       TYPECasa.rural  TYPECasa.rÃºstica  TYPECasa.terrera  TYPECaserÃ³n   \n",
       "0                   0                  0                 0             0  \\\n",
       "1                   0                  0                 0             0   \n",
       "2                   0                  0                 0             0   \n",
       "3                   0                  0                 0             0   \n",
       "4                   0                  0                 0             0   \n",
       "...               ...                ...               ...           ...   \n",
       "54933               1                  0                 0             0   \n",
       "54934               0                  0                 0             0   \n",
       "54935               1                  0                 0             0   \n",
       "54936               0                  0                 0             0   \n",
       "54937               0                  0                 0             0   \n",
       "\n",
       "       TYPECastillo  TYPEChalet  TYPEChalet.adosado  ...   \n",
       "0                 0           0                   0  ...  \\\n",
       "1                 0           0                   0  ...   \n",
       "2                 0           0                   0  ...   \n",
       "3                 0           0                   0  ...   \n",
       "4                 0           0                   0  ...   \n",
       "...             ...         ...                 ...  ...   \n",
       "54933             0           0                   0  ...   \n",
       "54934             0           0                   0  ...   \n",
       "54935             0           0                   0  ...   \n",
       "54936             0           0                   0  ...   \n",
       "54937             0           0                   0  ...   \n",
       "\n",
       "       TOWNzizur.mayorzizur.nagusia  ROOMS  AREA  FLOOR  LOCATIONexterior   \n",
       "0                                 0      3    92      3                 1  \\\n",
       "1                                 0      4   110      3                 1   \n",
       "2                                 0      0    28      0                 1   \n",
       "3                                 0      2    74      1                 1   \n",
       "4                                 0      4    80      4                 1   \n",
       "...                             ...    ...   ...    ...               ...   \n",
       "54933                             0      9   400     -1                 0   \n",
       "54934                             0      3   150     -1                 0   \n",
       "54935                             0      2    84     -1                 0   \n",
       "54936                             0      2   102     -1                 0   \n",
       "54937                             0      3   350     -1                 0   \n",
       "\n",
       "       LOCATIONinterior  ELEVATORFalse  PRICE  GARAGEFALSE  POPULATION  \n",
       "0                     0              0    650            0      244700  \n",
       "1                     0              0    750            0      244700  \n",
       "2                     0              0    500            0      244700  \n",
       "3                     0              1    900            0      244700  \n",
       "4                     0              0    650            0      244700  \n",
       "...                 ...            ...    ...          ...         ...  \n",
       "54933                 0              0   2000            0        2581  \n",
       "54934                 0              0    750            1        2581  \n",
       "54935                 0              0    400            1        2581  \n",
       "54936                 0              0   1000            1        2581  \n",
       "54937                 0              0    700            1        2581  \n",
       "\n",
       "[54938 rows x 842 columns]"
      ]
     },
     "execution_count": 26,
     "metadata": {},
     "output_type": "execute_result"
    }
   ],
   "source": [
    "import pandas as pd\n",
    "import xgboost\n",
    "\n",
    "rent = pd.read_csv('rentPost.csv', encoding='latin1')\n",
    "rent"
   ]
  },
  {
   "cell_type": "code",
   "execution_count": 27,
   "id": "cd1b50a9",
   "metadata": {
    "ExecuteTime": {
     "end_time": "2023-04-28T11:36:52.112970Z",
     "start_time": "2023-04-28T11:36:51.091187Z"
    },
    "tags": []
   },
   "outputs": [
    {
     "data": {
      "text/html": [
       "<div>\n",
       "<style scoped>\n",
       "    .dataframe tbody tr th:only-of-type {\n",
       "        vertical-align: middle;\n",
       "    }\n",
       "\n",
       "    .dataframe tbody tr th {\n",
       "        vertical-align: top;\n",
       "    }\n",
       "\n",
       "    .dataframe thead th {\n",
       "        text-align: right;\n",
       "    }\n",
       "</style>\n",
       "<table border=\"1\" class=\"dataframe\">\n",
       "  <thead>\n",
       "    <tr style=\"text-align: right;\">\n",
       "      <th></th>\n",
       "      <th>TYPEÃtico</th>\n",
       "      <th>TYPECasa.de.pueblo</th>\n",
       "      <th>TYPECasa.o.chalet.independiente</th>\n",
       "      <th>TYPECasa.rural</th>\n",
       "      <th>TYPECasa.rÃºstica</th>\n",
       "      <th>TYPECasa.terrera</th>\n",
       "      <th>TYPECaserÃ³n</th>\n",
       "      <th>TYPECastillo</th>\n",
       "      <th>TYPEChalet</th>\n",
       "      <th>TYPEChalet.adosado</th>\n",
       "      <th>...</th>\n",
       "      <th>TOWNzizur.mayorzizur.nagusia</th>\n",
       "      <th>ROOMS</th>\n",
       "      <th>AREA</th>\n",
       "      <th>FLOOR</th>\n",
       "      <th>LOCATIONexterior</th>\n",
       "      <th>LOCATIONinterior</th>\n",
       "      <th>ELEVATORFalse</th>\n",
       "      <th>PRICE</th>\n",
       "      <th>GARAGEFALSE</th>\n",
       "      <th>POPULATION</th>\n",
       "    </tr>\n",
       "  </thead>\n",
       "  <tbody>\n",
       "    <tr>\n",
       "      <th>0</th>\n",
       "      <td>0</td>\n",
       "      <td>0</td>\n",
       "      <td>0</td>\n",
       "      <td>0</td>\n",
       "      <td>0</td>\n",
       "      <td>0</td>\n",
       "      <td>0</td>\n",
       "      <td>0</td>\n",
       "      <td>0</td>\n",
       "      <td>0</td>\n",
       "      <td>...</td>\n",
       "      <td>0</td>\n",
       "      <td>4</td>\n",
       "      <td>116.0</td>\n",
       "      <td>2</td>\n",
       "      <td>1</td>\n",
       "      <td>0</td>\n",
       "      <td>0</td>\n",
       "      <td>185000.0</td>\n",
       "      <td>0</td>\n",
       "      <td>244700</td>\n",
       "    </tr>\n",
       "    <tr>\n",
       "      <th>1</th>\n",
       "      <td>0</td>\n",
       "      <td>0</td>\n",
       "      <td>0</td>\n",
       "      <td>0</td>\n",
       "      <td>0</td>\n",
       "      <td>0</td>\n",
       "      <td>0</td>\n",
       "      <td>0</td>\n",
       "      <td>0</td>\n",
       "      <td>0</td>\n",
       "      <td>...</td>\n",
       "      <td>0</td>\n",
       "      <td>3</td>\n",
       "      <td>88.0</td>\n",
       "      <td>2</td>\n",
       "      <td>1</td>\n",
       "      <td>0</td>\n",
       "      <td>1</td>\n",
       "      <td>120000.0</td>\n",
       "      <td>0</td>\n",
       "      <td>244700</td>\n",
       "    </tr>\n",
       "    <tr>\n",
       "      <th>2</th>\n",
       "      <td>0</td>\n",
       "      <td>0</td>\n",
       "      <td>0</td>\n",
       "      <td>0</td>\n",
       "      <td>0</td>\n",
       "      <td>0</td>\n",
       "      <td>0</td>\n",
       "      <td>0</td>\n",
       "      <td>0</td>\n",
       "      <td>0</td>\n",
       "      <td>...</td>\n",
       "      <td>0</td>\n",
       "      <td>2</td>\n",
       "      <td>75.0</td>\n",
       "      <td>1</td>\n",
       "      <td>1</td>\n",
       "      <td>0</td>\n",
       "      <td>0</td>\n",
       "      <td>149999.0</td>\n",
       "      <td>0</td>\n",
       "      <td>244700</td>\n",
       "    </tr>\n",
       "    <tr>\n",
       "      <th>3</th>\n",
       "      <td>0</td>\n",
       "      <td>0</td>\n",
       "      <td>0</td>\n",
       "      <td>0</td>\n",
       "      <td>0</td>\n",
       "      <td>0</td>\n",
       "      <td>0</td>\n",
       "      <td>0</td>\n",
       "      <td>0</td>\n",
       "      <td>0</td>\n",
       "      <td>...</td>\n",
       "      <td>0</td>\n",
       "      <td>3</td>\n",
       "      <td>90.0</td>\n",
       "      <td>4</td>\n",
       "      <td>1</td>\n",
       "      <td>0</td>\n",
       "      <td>0</td>\n",
       "      <td>235000.0</td>\n",
       "      <td>0</td>\n",
       "      <td>244700</td>\n",
       "    </tr>\n",
       "    <tr>\n",
       "      <th>4</th>\n",
       "      <td>0</td>\n",
       "      <td>0</td>\n",
       "      <td>0</td>\n",
       "      <td>0</td>\n",
       "      <td>0</td>\n",
       "      <td>0</td>\n",
       "      <td>0</td>\n",
       "      <td>0</td>\n",
       "      <td>0</td>\n",
       "      <td>0</td>\n",
       "      <td>...</td>\n",
       "      <td>0</td>\n",
       "      <td>3</td>\n",
       "      <td>100.0</td>\n",
       "      <td>6</td>\n",
       "      <td>1</td>\n",
       "      <td>0</td>\n",
       "      <td>0</td>\n",
       "      <td>169000.0</td>\n",
       "      <td>0</td>\n",
       "      <td>244700</td>\n",
       "    </tr>\n",
       "    <tr>\n",
       "      <th>...</th>\n",
       "      <td>...</td>\n",
       "      <td>...</td>\n",
       "      <td>...</td>\n",
       "      <td>...</td>\n",
       "      <td>...</td>\n",
       "      <td>...</td>\n",
       "      <td>...</td>\n",
       "      <td>...</td>\n",
       "      <td>...</td>\n",
       "      <td>...</td>\n",
       "      <td>...</td>\n",
       "      <td>...</td>\n",
       "      <td>...</td>\n",
       "      <td>...</td>\n",
       "      <td>...</td>\n",
       "      <td>...</td>\n",
       "      <td>...</td>\n",
       "      <td>...</td>\n",
       "      <td>...</td>\n",
       "      <td>...</td>\n",
       "      <td>...</td>\n",
       "    </tr>\n",
       "    <tr>\n",
       "      <th>463695</th>\n",
       "      <td>0</td>\n",
       "      <td>0</td>\n",
       "      <td>1</td>\n",
       "      <td>0</td>\n",
       "      <td>0</td>\n",
       "      <td>0</td>\n",
       "      <td>0</td>\n",
       "      <td>0</td>\n",
       "      <td>0</td>\n",
       "      <td>0</td>\n",
       "      <td>...</td>\n",
       "      <td>0</td>\n",
       "      <td>3</td>\n",
       "      <td>220.0</td>\n",
       "      <td>-1</td>\n",
       "      <td>0</td>\n",
       "      <td>0</td>\n",
       "      <td>0</td>\n",
       "      <td>115000.0</td>\n",
       "      <td>1</td>\n",
       "      <td>2581</td>\n",
       "    </tr>\n",
       "    <tr>\n",
       "      <th>463696</th>\n",
       "      <td>0</td>\n",
       "      <td>0</td>\n",
       "      <td>0</td>\n",
       "      <td>0</td>\n",
       "      <td>0</td>\n",
       "      <td>0</td>\n",
       "      <td>0</td>\n",
       "      <td>0</td>\n",
       "      <td>0</td>\n",
       "      <td>0</td>\n",
       "      <td>...</td>\n",
       "      <td>0</td>\n",
       "      <td>4</td>\n",
       "      <td>175.0</td>\n",
       "      <td>-1</td>\n",
       "      <td>0</td>\n",
       "      <td>0</td>\n",
       "      <td>0</td>\n",
       "      <td>225000.0</td>\n",
       "      <td>0</td>\n",
       "      <td>2581</td>\n",
       "    </tr>\n",
       "    <tr>\n",
       "      <th>463697</th>\n",
       "      <td>0</td>\n",
       "      <td>0</td>\n",
       "      <td>0</td>\n",
       "      <td>0</td>\n",
       "      <td>0</td>\n",
       "      <td>0</td>\n",
       "      <td>0</td>\n",
       "      <td>0</td>\n",
       "      <td>0</td>\n",
       "      <td>0</td>\n",
       "      <td>...</td>\n",
       "      <td>0</td>\n",
       "      <td>3</td>\n",
       "      <td>130.0</td>\n",
       "      <td>-1</td>\n",
       "      <td>0</td>\n",
       "      <td>0</td>\n",
       "      <td>0</td>\n",
       "      <td>130000.0</td>\n",
       "      <td>0</td>\n",
       "      <td>102</td>\n",
       "    </tr>\n",
       "    <tr>\n",
       "      <th>463698</th>\n",
       "      <td>0</td>\n",
       "      <td>0</td>\n",
       "      <td>1</td>\n",
       "      <td>0</td>\n",
       "      <td>0</td>\n",
       "      <td>0</td>\n",
       "      <td>0</td>\n",
       "      <td>0</td>\n",
       "      <td>0</td>\n",
       "      <td>0</td>\n",
       "      <td>...</td>\n",
       "      <td>0</td>\n",
       "      <td>3</td>\n",
       "      <td>170.0</td>\n",
       "      <td>-1</td>\n",
       "      <td>0</td>\n",
       "      <td>0</td>\n",
       "      <td>0</td>\n",
       "      <td>120000.0</td>\n",
       "      <td>0</td>\n",
       "      <td>238</td>\n",
       "    </tr>\n",
       "    <tr>\n",
       "      <th>463699</th>\n",
       "      <td>0</td>\n",
       "      <td>0</td>\n",
       "      <td>0</td>\n",
       "      <td>0</td>\n",
       "      <td>0</td>\n",
       "      <td>0</td>\n",
       "      <td>0</td>\n",
       "      <td>0</td>\n",
       "      <td>0</td>\n",
       "      <td>1</td>\n",
       "      <td>...</td>\n",
       "      <td>0</td>\n",
       "      <td>2</td>\n",
       "      <td>121.0</td>\n",
       "      <td>-1</td>\n",
       "      <td>0</td>\n",
       "      <td>0</td>\n",
       "      <td>0</td>\n",
       "      <td>100000.0</td>\n",
       "      <td>0</td>\n",
       "      <td>238</td>\n",
       "    </tr>\n",
       "  </tbody>\n",
       "</table>\n",
       "<p>463700 rows × 844 columns</p>\n",
       "</div>"
      ],
      "text/plain": [
       "        TYPEÃtico  TYPECasa.de.pueblo  TYPECasa.o.chalet.independiente   \n",
       "0                0                   0                                0  \\\n",
       "1                0                   0                                0   \n",
       "2                0                   0                                0   \n",
       "3                0                   0                                0   \n",
       "4                0                   0                                0   \n",
       "...            ...                 ...                              ...   \n",
       "463695           0                   0                                1   \n",
       "463696           0                   0                                0   \n",
       "463697           0                   0                                0   \n",
       "463698           0                   0                                1   \n",
       "463699           0                   0                                0   \n",
       "\n",
       "        TYPECasa.rural  TYPECasa.rÃºstica  TYPECasa.terrera  TYPECaserÃ³n   \n",
       "0                    0                  0                 0             0  \\\n",
       "1                    0                  0                 0             0   \n",
       "2                    0                  0                 0             0   \n",
       "3                    0                  0                 0             0   \n",
       "4                    0                  0                 0             0   \n",
       "...                ...                ...               ...           ...   \n",
       "463695               0                  0                 0             0   \n",
       "463696               0                  0                 0             0   \n",
       "463697               0                  0                 0             0   \n",
       "463698               0                  0                 0             0   \n",
       "463699               0                  0                 0             0   \n",
       "\n",
       "        TYPECastillo  TYPEChalet  TYPEChalet.adosado  ...   \n",
       "0                  0           0                   0  ...  \\\n",
       "1                  0           0                   0  ...   \n",
       "2                  0           0                   0  ...   \n",
       "3                  0           0                   0  ...   \n",
       "4                  0           0                   0  ...   \n",
       "...              ...         ...                 ...  ...   \n",
       "463695             0           0                   0  ...   \n",
       "463696             0           0                   0  ...   \n",
       "463697             0           0                   0  ...   \n",
       "463698             0           0                   0  ...   \n",
       "463699             0           0                   1  ...   \n",
       "\n",
       "        TOWNzizur.mayorzizur.nagusia  ROOMS   AREA  FLOOR  LOCATIONexterior   \n",
       "0                                  0      4  116.0      2                 1  \\\n",
       "1                                  0      3   88.0      2                 1   \n",
       "2                                  0      2   75.0      1                 1   \n",
       "3                                  0      3   90.0      4                 1   \n",
       "4                                  0      3  100.0      6                 1   \n",
       "...                              ...    ...    ...    ...               ...   \n",
       "463695                             0      3  220.0     -1                 0   \n",
       "463696                             0      4  175.0     -1                 0   \n",
       "463697                             0      3  130.0     -1                 0   \n",
       "463698                             0      3  170.0     -1                 0   \n",
       "463699                             0      2  121.0     -1                 0   \n",
       "\n",
       "        LOCATIONinterior  ELEVATORFalse     PRICE  GARAGEFALSE  POPULATION  \n",
       "0                      0              0  185000.0            0      244700  \n",
       "1                      0              1  120000.0            0      244700  \n",
       "2                      0              0  149999.0            0      244700  \n",
       "3                      0              0  235000.0            0      244700  \n",
       "4                      0              0  169000.0            0      244700  \n",
       "...                  ...            ...       ...          ...         ...  \n",
       "463695                 0              0  115000.0            1        2581  \n",
       "463696                 0              0  225000.0            0        2581  \n",
       "463697                 0              0  130000.0            0         102  \n",
       "463698                 0              0  120000.0            0         238  \n",
       "463699                 0              0  100000.0            0         238  \n",
       "\n",
       "[463700 rows x 844 columns]"
      ]
     },
     "execution_count": 27,
     "metadata": {},
     "output_type": "execute_result"
    }
   ],
   "source": [
    "sold = pd.read_csv('forSalePost.csv', encoding='latin1')\n",
    "sold"
   ]
  },
  {
   "cell_type": "code",
   "execution_count": 3,
   "id": "ab0676ea",
   "metadata": {
    "tags": []
   },
   "outputs": [
    {
     "data": {
      "text/plain": [
       "-0.7232034589269537"
      ]
     },
     "execution_count": 3,
     "metadata": {},
     "output_type": "execute_result"
    }
   ],
   "source": [
    "correlations = rent[\"ELEVATORTrue\"].corr(rent[\"ELEVATORFalse\"])\n",
    "#s = correlations.unstack()\n",
    "#so = s.sort_values(kind=\"quicksort\")\n",
    "\n",
    "#print(so[-850:-794])\n",
    "correlations"
   ]
  },
  {
   "cell_type": "code",
   "execution_count": 6,
   "id": "991645ed",
   "metadata": {
    "tags": []
   },
   "outputs": [
    {
     "name": "stdout",
     "output_type": "stream",
     "text": [
      "TOWNcaceres                                     TOWNcaceres                                       1.0\n",
      "TOWNcambrils                                    TOWNcambrils                                      1.0\n",
      "TOWNcampanet                                    TOWNcampanet                                      1.0\n",
      "TOWNcampos                                      TOWNcampos                                        1.0\n",
      "TOWNcandelaria                                  TOWNcandelaria                                    1.0\n",
      "TOWNcastilleja.de.la.cuesta                     TOWNcastilleja.de.la.cuesta                       1.0\n",
      "TOWNcastellon.de.la.plana.castello.de.la.plana  TOWNcastellon.de.la.plana.castello.de.la.plana    1.0\n",
      "TOWNcastelldefels                               TOWNcastelldefels                                 1.0\n",
      "TOWNcastellbisbal                               TOWNcastellbisbal                                 1.0\n",
      "TOWNcastellar.del.valles                        TOWNcastellar.del.valles                          1.0\n",
      "TOWNcastell.platja.d.aro                        TOWNcastell.platja.d.aro                          1.0\n",
      "TOWNcastell.de.ferro                            TOWNcastell.de.ferro                              1.0\n",
      "TOWNcasarrubios.del.monte                       TOWNcasarrubios.del.monte                         1.0\n",
      "TOWNcasares                                     TOWNcasares                                       1.0\n",
      "TOWNcartaya                                     TOWNcartaya                                       1.0\n",
      "TOWNcartama                                     TOWNcartama                                       1.0\n",
      "TOWNcubelles                                    TOWNcubelles                                      1.0\n",
      "TOWNcartagena                                   TOWNcartagena                                     1.0\n",
      "TOWNcardedeu                                    TOWNcardedeu                                      1.0\n",
      "TOWNcarboneras                                  TOWNcarboneras                                    1.0\n",
      "TOWNcarballo                                    TOWNcarballo                                      1.0\n",
      "TOWNcarbajosa.de.la.sagrada                     TOWNcarbajosa.de.la.sagrada                       1.0\n",
      "TOWNcapdepera                                   TOWNcapdepera                                     1.0\n",
      "TOWNcantoria                                    TOWNcantoria                                      1.0\n",
      "TOWNcangas.de.onis                              TOWNcangas.de.onis                                1.0\n",
      "TOWNcangas.de.narcea                            TOWNcangas.de.narcea                              1.0\n",
      "TOWNcangas                                      TOWNcangas                                        1.0\n",
      "TOWNcanfranc                                    TOWNcanfranc                                      1.0\n",
      "TOWNcanet.de.mar                                TOWNcanet.de.mar                                  1.0\n",
      "TOWNcarreno                                     TOWNcarreno                                       1.0\n",
      "TOWNcudillero                                   TOWNcudillero                                     1.0\n",
      "TOWNcuenca                                      TOWNcuenca                                        1.0\n",
      "TOWNcuevas.del.almanzora                        TOWNcuevas.del.almanzora                          1.0\n",
      "TOWNguadalupe                                   TOWNguadalupe                                     1.0\n",
      "TOWNguadalix.de.la.sierra                       TOWNguadalix.de.la.sierra                         1.0\n",
      "TOWNguadalajara                                 TOWNguadalajara                                   1.0\n",
      "TOWNgrinon                                      TOWNgrinon                                        1.0\n",
      "TOWNgrijota                                     TOWNgrijota                                       1.0\n",
      "TOWNgrazalema                                   TOWNgrazalema                                     1.0\n",
      "TOWNgraus                                       TOWNgraus                                         1.0\n",
      "TOWNgranollers                                  TOWNgranollers                                    1.0\n",
      "TOWNgranadilla.de.abona                         TOWNgranadilla.de.abona                           1.0\n",
      "TOWNgranada                                     TOWNgranada                                       1.0\n",
      "TOWNgran.alacant                                TOWNgran.alacant                                  1.0\n",
      "TOWNgrado                                       TOWNgrado                                         1.0\n",
      "TOWNgozon                                       TOWNgozon                                         1.0\n",
      "TOWNgondomar                                    TOWNgondomar                                      1.0\n",
      "TOWNgirona                                      TOWNgirona                                        1.0\n",
      "TOWNgines                                       TOWNgines                                         1.0\n",
      "TOWNgijon                                       TOWNgijon                                         1.0\n",
      "dtype: float64\n"
     ]
    }
   ],
   "source": [
    "print(so[-800:-750])"
   ]
  },
  {
   "cell_type": "markdown",
   "id": "1f2051ce",
   "metadata": {},
   "source": [
    "## Linear regression of rent price"
   ]
  },
  {
   "cell_type": "code",
   "execution_count": 28,
   "id": "f659415b",
   "metadata": {
    "tags": []
   },
   "outputs": [],
   "source": [
    "X = rent.drop(['PRICE'],axis=1)\n",
    "y = rent['PRICE']"
   ]
  },
  {
   "cell_type": "code",
   "execution_count": 29,
   "id": "aa7da018",
   "metadata": {
    "tags": []
   },
   "outputs": [
    {
     "name": "stdout",
     "output_type": "stream",
     "text": [
      "Iteration  1\n",
      "\tMSE:  1784516.3364811735\n",
      "\tR2:  0.5451984322213093\n",
      "Iteration  2\n",
      "\tMSE:  2310527.707400653\n",
      "\tR2:  0.5463192864927736\n",
      "Iteration  3\n",
      "\tMSE:  1641276.1537938693\n",
      "\tR2:  0.5608659700990144\n",
      "Iteration  4\n",
      "\tMSE:  2331329.0611666585\n",
      "\tR2:  0.5465230566976876\n",
      "Iteration  5\n",
      "\tMSE:  2277834.3402276137\n",
      "\tR2:  0.5301209159105656\n",
      "Iteration  6\n",
      "\tMSE:  1966292.9124395004\n",
      "\tR2:  0.5604639464825949\n",
      "Iteration  7\n",
      "\tMSE:  1665540.5259850428\n",
      "\tR2:  0.6046456726276701\n",
      "Iteration  8\n",
      "\tMSE:  1884225.2849063794\n",
      "\tR2:  0.5571432433330985\n",
      "Iteration  9\n",
      "\tMSE:  1922794.3117761882\n",
      "\tR2:  0.5684024103867633\n",
      "Iteration  10\n",
      "\tMSE:  1846220.3127539444\n",
      "\tR2:  0.5549084694263061\n",
      "Mean Squared Error: 1963055.6946931027\n",
      "R-squared Score: 0.5574591403677783\n"
     ]
    }
   ],
   "source": [
    "from sklearn.linear_model import LinearRegression\n",
    "from sklearn.metrics import mean_squared_error, r2_score\n",
    "from sklearn.linear_model import Ridge\n",
    "from sklearn.model_selection import KFold\n",
    "\n",
    "# create folds\n",
    "folds = KFold(n_splits=10, shuffle=True)\n",
    "\n",
    "model = LinearRegression()\n",
    "mse_ = []\n",
    "r2_ = []\n",
    "iteration = 1\n",
    "for train_index, test_index in folds.split(X):\n",
    "    # split data into trian and test\n",
    "    X_train = X.loc[train_index]\n",
    "    X_test = X.loc[test_index]\n",
    "    y_train = y.loc[train_index]\n",
    "    y_test = y.loc[test_index]\n",
    "\n",
    "    model.fit(X_train, y_train)\n",
    "    predictions = model.predict(X_test)\n",
    "    m = mean_squared_error(y_test, predictions)\n",
    "    mse_.append(m)\n",
    "    print(\"Iteration \",iteration)\n",
    "    print('\\tMSE: ',m)\n",
    "    r = r2_score(y_test, predictions)\n",
    "    r2_.append(r)\n",
    "    print('\\tR2: ',r)\n",
    "    iteration+=1\n",
    "\n",
    "# mean squared error\n",
    "print('Mean Squared Error:', sum(mse_)/len(mse_))\n",
    "\n",
    "# R-squared score\n",
    "print('R-squared Score:', sum(r2_)/len(r2_))\n",
    "\n"
   ]
  },
  {
   "cell_type": "code",
   "execution_count": 5,
   "id": "0594604d",
   "metadata": {
    "tags": []
   },
   "outputs": [
    {
     "name": "stderr",
     "output_type": "stream",
     "text": [
      "/Library/Frameworks/Python.framework/Versions/3.11/lib/python3.11/site-packages/sklearn/linear_model/_ridge.py:216: LinAlgWarning: Ill-conditioned matrix (rcond=1.79852e-18): result may not be accurate.\n",
      "  return linalg.solve(A, Xy, assume_a=\"pos\", overwrite_a=True).T\n",
      "/Library/Frameworks/Python.framework/Versions/3.11/lib/python3.11/site-packages/sklearn/linear_model/_ridge.py:216: LinAlgWarning: Ill-conditioned matrix (rcond=2.15596e-18): result may not be accurate.\n",
      "  return linalg.solve(A, Xy, assume_a=\"pos\", overwrite_a=True).T\n",
      "/Library/Frameworks/Python.framework/Versions/3.11/lib/python3.11/site-packages/sklearn/linear_model/_ridge.py:216: LinAlgWarning: Ill-conditioned matrix (rcond=2.00767e-18): result may not be accurate.\n",
      "  return linalg.solve(A, Xy, assume_a=\"pos\", overwrite_a=True).T\n",
      "/Library/Frameworks/Python.framework/Versions/3.11/lib/python3.11/site-packages/sklearn/linear_model/_ridge.py:216: LinAlgWarning: Ill-conditioned matrix (rcond=1.90033e-18): result may not be accurate.\n",
      "  return linalg.solve(A, Xy, assume_a=\"pos\", overwrite_a=True).T\n",
      "/Library/Frameworks/Python.framework/Versions/3.11/lib/python3.11/site-packages/sklearn/linear_model/_ridge.py:216: LinAlgWarning: Ill-conditioned matrix (rcond=1.50806e-18): result may not be accurate.\n",
      "  return linalg.solve(A, Xy, assume_a=\"pos\", overwrite_a=True).T\n",
      "/Library/Frameworks/Python.framework/Versions/3.11/lib/python3.11/site-packages/sklearn/linear_model/_ridge.py:216: LinAlgWarning: Ill-conditioned matrix (rcond=1.70919e-18): result may not be accurate.\n",
      "  return linalg.solve(A, Xy, assume_a=\"pos\", overwrite_a=True).T\n",
      "/Library/Frameworks/Python.framework/Versions/3.11/lib/python3.11/site-packages/sklearn/linear_model/_ridge.py:216: LinAlgWarning: Ill-conditioned matrix (rcond=1.90402e-18): result may not be accurate.\n",
      "  return linalg.solve(A, Xy, assume_a=\"pos\", overwrite_a=True).T\n",
      "/Library/Frameworks/Python.framework/Versions/3.11/lib/python3.11/site-packages/sklearn/linear_model/_ridge.py:216: LinAlgWarning: Ill-conditioned matrix (rcond=1.90058e-18): result may not be accurate.\n",
      "  return linalg.solve(A, Xy, assume_a=\"pos\", overwrite_a=True).T\n",
      "/Library/Frameworks/Python.framework/Versions/3.11/lib/python3.11/site-packages/sklearn/linear_model/_ridge.py:216: LinAlgWarning: Ill-conditioned matrix (rcond=1.69806e-18): result may not be accurate.\n",
      "  return linalg.solve(A, Xy, assume_a=\"pos\", overwrite_a=True).T\n",
      "/Library/Frameworks/Python.framework/Versions/3.11/lib/python3.11/site-packages/sklearn/linear_model/_ridge.py:216: LinAlgWarning: Ill-conditioned matrix (rcond=2.30148e-18): result may not be accurate.\n",
      "  return linalg.solve(A, Xy, assume_a=\"pos\", overwrite_a=True).T\n",
      "/Library/Frameworks/Python.framework/Versions/3.11/lib/python3.11/site-packages/sklearn/linear_model/_ridge.py:216: LinAlgWarning: Ill-conditioned matrix (rcond=1.30509e-17): result may not be accurate.\n",
      "  return linalg.solve(A, Xy, assume_a=\"pos\", overwrite_a=True).T\n",
      "/Library/Frameworks/Python.framework/Versions/3.11/lib/python3.11/site-packages/sklearn/linear_model/_ridge.py:216: LinAlgWarning: Ill-conditioned matrix (rcond=1.32912e-17): result may not be accurate.\n",
      "  return linalg.solve(A, Xy, assume_a=\"pos\", overwrite_a=True).T\n",
      "/Library/Frameworks/Python.framework/Versions/3.11/lib/python3.11/site-packages/sklearn/linear_model/_ridge.py:216: LinAlgWarning: Ill-conditioned matrix (rcond=1.32366e-17): result may not be accurate.\n",
      "  return linalg.solve(A, Xy, assume_a=\"pos\", overwrite_a=True).T\n",
      "/Library/Frameworks/Python.framework/Versions/3.11/lib/python3.11/site-packages/sklearn/linear_model/_ridge.py:216: LinAlgWarning: Ill-conditioned matrix (rcond=1.30938e-17): result may not be accurate.\n",
      "  return linalg.solve(A, Xy, assume_a=\"pos\", overwrite_a=True).T\n",
      "/Library/Frameworks/Python.framework/Versions/3.11/lib/python3.11/site-packages/sklearn/linear_model/_ridge.py:216: LinAlgWarning: Ill-conditioned matrix (rcond=1.27884e-17): result may not be accurate.\n",
      "  return linalg.solve(A, Xy, assume_a=\"pos\", overwrite_a=True).T\n",
      "/Library/Frameworks/Python.framework/Versions/3.11/lib/python3.11/site-packages/sklearn/linear_model/_ridge.py:216: LinAlgWarning: Ill-conditioned matrix (rcond=1.30538e-17): result may not be accurate.\n",
      "  return linalg.solve(A, Xy, assume_a=\"pos\", overwrite_a=True).T\n",
      "/Library/Frameworks/Python.framework/Versions/3.11/lib/python3.11/site-packages/sklearn/linear_model/_ridge.py:216: LinAlgWarning: Ill-conditioned matrix (rcond=1.32982e-17): result may not be accurate.\n",
      "  return linalg.solve(A, Xy, assume_a=\"pos\", overwrite_a=True).T\n",
      "/Library/Frameworks/Python.framework/Versions/3.11/lib/python3.11/site-packages/sklearn/linear_model/_ridge.py:216: LinAlgWarning: Ill-conditioned matrix (rcond=1.30651e-17): result may not be accurate.\n",
      "  return linalg.solve(A, Xy, assume_a=\"pos\", overwrite_a=True).T\n",
      "/Library/Frameworks/Python.framework/Versions/3.11/lib/python3.11/site-packages/sklearn/linear_model/_ridge.py:216: LinAlgWarning: Ill-conditioned matrix (rcond=1.32579e-17): result may not be accurate.\n",
      "  return linalg.solve(A, Xy, assume_a=\"pos\", overwrite_a=True).T\n",
      "/Library/Frameworks/Python.framework/Versions/3.11/lib/python3.11/site-packages/sklearn/linear_model/_ridge.py:216: LinAlgWarning: Ill-conditioned matrix (rcond=1.33097e-17): result may not be accurate.\n",
      "  return linalg.solve(A, Xy, assume_a=\"pos\", overwrite_a=True).T\n",
      "/Library/Frameworks/Python.framework/Versions/3.11/lib/python3.11/site-packages/sklearn/linear_model/_ridge.py:216: LinAlgWarning: Ill-conditioned matrix (rcond=1.0115e-16): result may not be accurate.\n",
      "  return linalg.solve(A, Xy, assume_a=\"pos\", overwrite_a=True).T\n",
      "/Library/Frameworks/Python.framework/Versions/3.11/lib/python3.11/site-packages/sklearn/linear_model/_ridge.py:216: LinAlgWarning: Ill-conditioned matrix (rcond=1.01637e-16): result may not be accurate.\n",
      "  return linalg.solve(A, Xy, assume_a=\"pos\", overwrite_a=True).T\n",
      "/Library/Frameworks/Python.framework/Versions/3.11/lib/python3.11/site-packages/sklearn/linear_model/_ridge.py:216: LinAlgWarning: Ill-conditioned matrix (rcond=1.01351e-16): result may not be accurate.\n",
      "  return linalg.solve(A, Xy, assume_a=\"pos\", overwrite_a=True).T\n",
      "/Library/Frameworks/Python.framework/Versions/3.11/lib/python3.11/site-packages/sklearn/linear_model/_ridge.py:216: LinAlgWarning: Ill-conditioned matrix (rcond=1.0142e-16): result may not be accurate.\n",
      "  return linalg.solve(A, Xy, assume_a=\"pos\", overwrite_a=True).T\n",
      "/Library/Frameworks/Python.framework/Versions/3.11/lib/python3.11/site-packages/sklearn/linear_model/_ridge.py:216: LinAlgWarning: Ill-conditioned matrix (rcond=1.00735e-16): result may not be accurate.\n",
      "  return linalg.solve(A, Xy, assume_a=\"pos\", overwrite_a=True).T\n",
      "/Library/Frameworks/Python.framework/Versions/3.11/lib/python3.11/site-packages/sklearn/linear_model/_ridge.py:216: LinAlgWarning: Ill-conditioned matrix (rcond=1.01264e-16): result may not be accurate.\n",
      "  return linalg.solve(A, Xy, assume_a=\"pos\", overwrite_a=True).T\n",
      "/Library/Frameworks/Python.framework/Versions/3.11/lib/python3.11/site-packages/sklearn/linear_model/_ridge.py:216: LinAlgWarning: Ill-conditioned matrix (rcond=1.01966e-16): result may not be accurate.\n",
      "  return linalg.solve(A, Xy, assume_a=\"pos\", overwrite_a=True).T\n",
      "/Library/Frameworks/Python.framework/Versions/3.11/lib/python3.11/site-packages/sklearn/linear_model/_ridge.py:216: LinAlgWarning: Ill-conditioned matrix (rcond=1.01419e-16): result may not be accurate.\n",
      "  return linalg.solve(A, Xy, assume_a=\"pos\", overwrite_a=True).T\n",
      "/Library/Frameworks/Python.framework/Versions/3.11/lib/python3.11/site-packages/sklearn/linear_model/_ridge.py:216: LinAlgWarning: Ill-conditioned matrix (rcond=1.01072e-16): result may not be accurate.\n",
      "  return linalg.solve(A, Xy, assume_a=\"pos\", overwrite_a=True).T\n",
      "/Library/Frameworks/Python.framework/Versions/3.11/lib/python3.11/site-packages/sklearn/linear_model/_ridge.py:216: LinAlgWarning: Ill-conditioned matrix (rcond=1.01595e-16): result may not be accurate.\n",
      "  return linalg.solve(A, Xy, assume_a=\"pos\", overwrite_a=True).T\n"
     ]
    },
    {
     "name": "stdout",
     "output_type": "stream",
     "text": [
      "Best alpha = 10.0\n"
     ]
    },
    {
     "name": "stderr",
     "output_type": "stream",
     "text": [
      "/Library/Frameworks/Python.framework/Versions/3.11/lib/python3.11/site-packages/sklearn/linear_model/_ridge.py:216: LinAlgWarning: Ill-conditioned matrix (rcond=9.18493e-17): result may not be accurate.\n",
      "  return linalg.solve(A, Xy, assume_a=\"pos\", overwrite_a=True).T\n"
     ]
    }
   ],
   "source": [
    "from sklearn.linear_model import RidgeCV\n",
    "from sklearn.model_selection import train_test_split\n",
    "\n",
    "X_train, X_test, y_train, y_test = train_test_split(X, y, test_size=0.1, random_state=0)\n",
    "\n",
    "model_ridgecv = RidgeCV(cv=10)\n",
    "model_ridgecv.fit(X_train, y_train)\n",
    "best_alpha = model_ridgecv.alpha_\n",
    "\n",
    "print(\"Best alpha = {}\".format(best_alpha))"
   ]
  },
  {
   "cell_type": "code",
   "execution_count": 6,
   "id": "377c8335",
   "metadata": {
    "tags": []
   },
   "outputs": [
    {
     "name": "stderr",
     "output_type": "stream",
     "text": [
      "/Library/Frameworks/Python.framework/Versions/3.11/lib/python3.11/site-packages/sklearn/linear_model/_ridge.py:216: LinAlgWarning: Ill-conditioned matrix (rcond=9.28694e-17): result may not be accurate.\n",
      "  return linalg.solve(A, Xy, assume_a=\"pos\", overwrite_a=True).T\n"
     ]
    },
    {
     "name": "stdout",
     "output_type": "stream",
     "text": [
      "Iteration  1\n",
      "\tMSE:  1649065.974012931\n",
      "\tR2:  0.5868184002577534\n"
     ]
    },
    {
     "name": "stderr",
     "output_type": "stream",
     "text": [
      "/Library/Frameworks/Python.framework/Versions/3.11/lib/python3.11/site-packages/sklearn/linear_model/_ridge.py:216: LinAlgWarning: Ill-conditioned matrix (rcond=9.18994e-17): result may not be accurate.\n",
      "  return linalg.solve(A, Xy, assume_a=\"pos\", overwrite_a=True).T\n"
     ]
    },
    {
     "name": "stdout",
     "output_type": "stream",
     "text": [
      "Iteration  2\n",
      "\tMSE:  1809672.1210514836\n",
      "\tR2:  0.562700193503999\n"
     ]
    },
    {
     "name": "stderr",
     "output_type": "stream",
     "text": [
      "/Library/Frameworks/Python.framework/Versions/3.11/lib/python3.11/site-packages/sklearn/linear_model/_ridge.py:216: LinAlgWarning: Ill-conditioned matrix (rcond=9.23929e-17): result may not be accurate.\n",
      "  return linalg.solve(A, Xy, assume_a=\"pos\", overwrite_a=True).T\n"
     ]
    },
    {
     "name": "stdout",
     "output_type": "stream",
     "text": [
      "Iteration  3\n",
      "\tMSE:  2551759.7912229155\n",
      "\tR2:  0.5108359068720649\n"
     ]
    },
    {
     "name": "stderr",
     "output_type": "stream",
     "text": [
      "/Library/Frameworks/Python.framework/Versions/3.11/lib/python3.11/site-packages/sklearn/linear_model/_ridge.py:216: LinAlgWarning: Ill-conditioned matrix (rcond=9.21666e-17): result may not be accurate.\n",
      "  return linalg.solve(A, Xy, assume_a=\"pos\", overwrite_a=True).T\n"
     ]
    },
    {
     "name": "stdout",
     "output_type": "stream",
     "text": [
      "Iteration  4\n",
      "\tMSE:  1773575.450038076\n",
      "\tR2:  0.5948556487580323\n"
     ]
    },
    {
     "name": "stderr",
     "output_type": "stream",
     "text": [
      "/Library/Frameworks/Python.framework/Versions/3.11/lib/python3.11/site-packages/sklearn/linear_model/_ridge.py:216: LinAlgWarning: Ill-conditioned matrix (rcond=9.18448e-17): result may not be accurate.\n",
      "  return linalg.solve(A, Xy, assume_a=\"pos\", overwrite_a=True).T\n"
     ]
    },
    {
     "name": "stdout",
     "output_type": "stream",
     "text": [
      "Iteration  5\n",
      "\tMSE:  1936134.3689403695\n",
      "\tR2:  0.5648179395436279\n"
     ]
    },
    {
     "name": "stderr",
     "output_type": "stream",
     "text": [
      "/Library/Frameworks/Python.framework/Versions/3.11/lib/python3.11/site-packages/sklearn/linear_model/_ridge.py:216: LinAlgWarning: Ill-conditioned matrix (rcond=9.16711e-17): result may not be accurate.\n",
      "  return linalg.solve(A, Xy, assume_a=\"pos\", overwrite_a=True).T\n"
     ]
    },
    {
     "name": "stdout",
     "output_type": "stream",
     "text": [
      "Iteration  6\n",
      "\tMSE:  1521508.4032349118\n",
      "\tR2:  0.5938643669262498\n"
     ]
    },
    {
     "name": "stderr",
     "output_type": "stream",
     "text": [
      "/Library/Frameworks/Python.framework/Versions/3.11/lib/python3.11/site-packages/sklearn/linear_model/_ridge.py:216: LinAlgWarning: Ill-conditioned matrix (rcond=9.20142e-17): result may not be accurate.\n",
      "  return linalg.solve(A, Xy, assume_a=\"pos\", overwrite_a=True).T\n"
     ]
    },
    {
     "name": "stdout",
     "output_type": "stream",
     "text": [
      "Iteration  7\n",
      "\tMSE:  2102282.203611728\n",
      "\tR2:  0.550209016373062\n"
     ]
    },
    {
     "name": "stderr",
     "output_type": "stream",
     "text": [
      "/Library/Frameworks/Python.framework/Versions/3.11/lib/python3.11/site-packages/sklearn/linear_model/_ridge.py:216: LinAlgWarning: Ill-conditioned matrix (rcond=9.16158e-17): result may not be accurate.\n",
      "  return linalg.solve(A, Xy, assume_a=\"pos\", overwrite_a=True).T\n"
     ]
    },
    {
     "name": "stdout",
     "output_type": "stream",
     "text": [
      "Iteration  8\n",
      "\tMSE:  2249140.7624068502\n",
      "\tR2:  0.5281621024686334\n"
     ]
    },
    {
     "name": "stderr",
     "output_type": "stream",
     "text": [
      "/Library/Frameworks/Python.framework/Versions/3.11/lib/python3.11/site-packages/sklearn/linear_model/_ridge.py:216: LinAlgWarning: Ill-conditioned matrix (rcond=9.19065e-17): result may not be accurate.\n",
      "  return linalg.solve(A, Xy, assume_a=\"pos\", overwrite_a=True).T\n"
     ]
    },
    {
     "name": "stdout",
     "output_type": "stream",
     "text": [
      "Iteration  9\n",
      "\tMSE:  1741578.9111949792\n",
      "\tR2:  0.5876733014624156\n",
      "Iteration  10\n",
      "\tMSE:  2219819.68777511\n",
      "\tR2:  0.528283244526244\n",
      "Mean Squared Error: 1955453.7673489354\n",
      "R-squared Score: 0.5608220120692082\n"
     ]
    },
    {
     "name": "stderr",
     "output_type": "stream",
     "text": [
      "/Library/Frameworks/Python.framework/Versions/3.11/lib/python3.11/site-packages/sklearn/linear_model/_ridge.py:216: LinAlgWarning: Ill-conditioned matrix (rcond=9.1839e-17): result may not be accurate.\n",
      "  return linalg.solve(A, Xy, assume_a=\"pos\", overwrite_a=True).T\n"
     ]
    }
   ],
   "source": [
    "from sklearn.linear_model import Ridge\n",
    "from sklearn.metrics import mean_squared_error, r2_score\n",
    "from sklearn.linear_model import Ridge\n",
    "from sklearn.model_selection import KFold\n",
    "\n",
    "# create folds\n",
    "folds = KFold(n_splits=10, shuffle=True)\n",
    "\n",
    "model = Ridge(alpha=best_alpha)\n",
    "mse_ = []\n",
    "r2_ = []\n",
    "iteration = 1\n",
    "for train_index, test_index in folds.split(X):\n",
    "    # split data into trian and test\n",
    "    X_train = X.loc[train_index]\n",
    "    X_test = X.loc[test_index]\n",
    "    y_train = y.loc[train_index]\n",
    "    y_test = y.loc[test_index]\n",
    "\n",
    "    model.fit(X_train, y_train)\n",
    "    predictions = model.predict(X_test)\n",
    "    m = mean_squared_error(y_test, predictions)\n",
    "    mse_.append(m)\n",
    "    print(\"Iteration \",iteration)\n",
    "    print('\\tMSE: ',m)\n",
    "    r = r2_score(y_test, predictions)\n",
    "    r2_.append(r)\n",
    "    print('\\tR2: ',r)\n",
    "    iteration+=1\n",
    "\n",
    "# mean squared error\n",
    "print('Mean Squared Error:', sum(mse_)/len(mse_))\n",
    "\n",
    "# R-squared score\n",
    "print('R-squared Score:', sum(r2_)/len(r2_))"
   ]
  },
  {
   "cell_type": "code",
   "execution_count": 7,
   "id": "66741e3b",
   "metadata": {
    "tags": []
   },
   "outputs": [
    {
     "name": "stdout",
     "output_type": "stream",
     "text": [
      "Best alpha = 40168.52525229967\n"
     ]
    }
   ],
   "source": [
    "from sklearn.linear_model import LassoCV\n",
    "\n",
    "model_lassocv = LassoCV(cv=10)\n",
    "model_lassocv.fit(X_train, y_train)\n",
    "best_alpha = model_lassocv.alpha_\n",
    "\n",
    "print(\"Best alpha = {}\".format(best_alpha))"
   ]
  },
  {
   "cell_type": "code",
   "execution_count": 8,
   "id": "3b1f7160",
   "metadata": {
    "tags": []
   },
   "outputs": [
    {
     "name": "stdout",
     "output_type": "stream",
     "text": [
      "Iteration  1\n",
      "\tMSE:  2765502.4843597896\n",
      "\tR2:  0.3500726587941211\n",
      "Iteration  2\n",
      "\tMSE:  3057006.960406142\n",
      "\tR2:  0.34755364675102696\n",
      "Iteration  3\n",
      "\tMSE:  3252580.550881743\n",
      "\tR2:  0.3120168276322396\n",
      "Iteration  4\n",
      "\tMSE:  2525736.279293257\n",
      "\tR2:  0.36472452091245455\n",
      "Iteration  5\n",
      "\tMSE:  2369445.259151145\n",
      "\tR2:  0.4111907691625122\n",
      "Iteration  6\n",
      "\tMSE:  3201356.228452489\n",
      "\tR2:  0.3220091809199379\n",
      "Iteration  7\n",
      "\tMSE:  2539217.848119181\n",
      "\tR2:  0.3862407605562145\n",
      "Iteration  8\n",
      "\tMSE:  3087123.4426905615\n",
      "\tR2:  0.3470137811397118\n",
      "Iteration  9\n",
      "\tMSE:  2513355.330319501\n",
      "\tR2:  0.3683617257365335\n",
      "Iteration  10\n",
      "\tMSE:  3319197.3597910735\n",
      "\tR2:  0.3435237625755385\n",
      "Mean Squared Error: 2863052.1743464884\n",
      "R-squared Score: 0.355270763418029\n"
     ]
    }
   ],
   "source": [
    "from sklearn.linear_model import Lasso\n",
    "from sklearn.metrics import mean_squared_error, r2_score\n",
    "from sklearn.linear_model import Ridge\n",
    "from sklearn.model_selection import KFold\n",
    "\n",
    "# create folds\n",
    "folds = KFold(n_splits=10, shuffle=True)\n",
    "\n",
    "model = Lasso(alpha=best_alpha)\n",
    "mse_ = []\n",
    "r2_ = []\n",
    "iteration = 1\n",
    "for train_index, test_index in folds.split(X):\n",
    "    # split data into trian and test\n",
    "    X_train = X.loc[train_index]\n",
    "    X_test = X.loc[test_index]\n",
    "    y_train = y.loc[train_index]\n",
    "    y_test = y.loc[test_index]\n",
    "\n",
    "    model.fit(X_train, y_train)\n",
    "    predictions = model.predict(X_test)\n",
    "    m = mean_squared_error(y_test, predictions)\n",
    "    mse_.append(m)\n",
    "    print(\"Iteration \",iteration)\n",
    "    print('\\tMSE: ',m)\n",
    "    r = r2_score(y_test, predictions)\n",
    "    r2_.append(r)\n",
    "    print('\\tR2: ',r)\n",
    "    iteration+=1\n",
    "\n",
    "# mean squared error\n",
    "print('Mean Squared Error:', sum(mse_)/len(mse_))\n",
    "\n",
    "# R-squared score\n",
    "print('R-squared Score:', sum(r2_)/len(r2_))"
   ]
  },
  {
   "cell_type": "code",
   "execution_count": 10,
   "id": "4ff02282-5069-4f22-8917-a2875fb7a594",
   "metadata": {
    "tags": []
   },
   "outputs": [
    {
     "name": "stdout",
     "output_type": "stream",
     "text": [
      "\tMSE:  1891835.1557806865\n",
      "\tR2:  0.5728974328649803\n"
     ]
    }
   ],
   "source": [
    "model = LinearRegression()\n",
    "model.fit(X, y)\n",
    "predictions = model.predict(X)\n",
    "m = mean_squared_error(y, predictions)\n",
    "print('\\tMSE: ',m)\n",
    "r = r2_score(y, predictions)\n",
    "print('\\tR2: ',r)"
   ]
  },
  {
   "cell_type": "markdown",
   "id": "d244d25c",
   "metadata": {},
   "source": [
    "## Regression Tree"
   ]
  },
  {
   "cell_type": "code",
   "execution_count": 11,
   "id": "6ca51307",
   "metadata": {
    "tags": []
   },
   "outputs": [
    {
     "name": "stdout",
     "output_type": "stream",
     "text": [
      "Iteration  1\n",
      "\tMSE:  2746719.1616961076\n",
      "\tR2:  0.3928996903642181\n",
      "Iteration  2\n",
      "\tMSE:  1951703.0665086631\n",
      "\tR2:  0.46563377655311045\n",
      "Iteration  3\n",
      "\tMSE:  2622155.407536464\n",
      "\tR2:  0.5022547675537848\n",
      "Iteration  4\n",
      "\tMSE:  2336018.111391007\n",
      "\tR2:  0.46463221738036364\n",
      "Iteration  5\n",
      "\tMSE:  1914575.066701262\n",
      "\tR2:  0.5233781670623626\n",
      "Iteration  6\n",
      "\tMSE:  2392798.1785975024\n",
      "\tR2:  0.4607499847110038\n",
      "Iteration  7\n",
      "\tMSE:  1925946.3633487963\n",
      "\tR2:  0.5702685964981944\n",
      "Iteration  8\n",
      "\tMSE:  2550370.403228997\n",
      "\tR2:  0.5042096697704681\n",
      "Iteration  9\n",
      "\tMSE:  1949829.8772158856\n",
      "\tR2:  0.5844518216670065\n",
      "Iteration  10\n",
      "\tMSE:  1694510.4538059689\n",
      "\tR2:  0.5432361034030607\n",
      "Mean Squared Error: 2208462.609003065\n",
      "R-squared Score: 0.5011714794963573\n"
     ]
    }
   ],
   "source": [
    "from sklearn.tree import DecisionTreeRegressor\n",
    "from sklearn.metrics import mean_squared_error, r2_score\n",
    "from sklearn.linear_model import Ridge\n",
    "from sklearn.model_selection import KFold\n",
    "\n",
    "# create folds\n",
    "folds = KFold(n_splits=10, shuffle=True)\n",
    "\n",
    "model = DecisionTreeRegressor()\n",
    "mse_ = []\n",
    "r2_ = []\n",
    "iteration = 1\n",
    "for train_index, test_index in folds.split(X):\n",
    "    # split data into trian and test\n",
    "    X_train = X.loc[train_index]\n",
    "    X_test = X.loc[test_index]\n",
    "    y_train = y.loc[train_index]\n",
    "    y_test = y.loc[test_index]\n",
    "\n",
    "    model.fit(X_train, y_train)\n",
    "    predictions = model.predict(X_test)\n",
    "    m = mean_squared_error(y_test, predictions)\n",
    "    mse_.append(m)\n",
    "    print(\"Iteration \",iteration)\n",
    "    print('\\tMSE: ',m)\n",
    "    r = r2_score(y_test, predictions)\n",
    "    r2_.append(r)\n",
    "    print('\\tR2: ',r)\n",
    "    iteration+=1\n",
    "\n",
    "# mean squared error\n",
    "print('Mean Squared Error:', sum(mse_)/len(mse_))\n",
    "\n",
    "# R-squared score\n",
    "print('R-squared Score:', sum(r2_)/len(r2_))"
   ]
  },
  {
   "cell_type": "markdown",
   "id": "d6cd01c2",
   "metadata": {},
   "source": [
    "## RandomForestRegressor"
   ]
  },
  {
   "cell_type": "code",
   "execution_count": 12,
   "id": "29705d4e",
   "metadata": {
    "tags": []
   },
   "outputs": [
    {
     "name": "stdout",
     "output_type": "stream",
     "text": [
      "Iteration  1\n",
      "\tMSE:  1900561.4532149588\n",
      "\tR2:  0.6425746174822047\n",
      "Iteration  2\n",
      "\tMSE:  1108701.9396698154\n",
      "\tR2:  0.7375512104848899\n",
      "Iteration  3\n",
      "\tMSE:  1275250.1570492478\n",
      "\tR2:  0.7050765467606328\n",
      "Iteration  4\n",
      "\tMSE:  1155126.718680867\n",
      "\tR2:  0.7044551258929319\n",
      "Iteration  5\n",
      "\tMSE:  1215694.5354852981\n",
      "\tR2:  0.7058425979513351\n",
      "Iteration  6\n",
      "\tMSE:  1502044.9644910402\n",
      "\tR2:  0.6211025391486962\n",
      "Iteration  7\n",
      "\tMSE:  1200387.2852108318\n",
      "\tR2:  0.7140264021805061\n",
      "Iteration  8\n",
      "\tMSE:  1099472.7029402014\n",
      "\tR2:  0.7524282065162428\n",
      "Iteration  9\n",
      "\tMSE:  1559634.2968231777\n",
      "\tR2:  0.6893235284960266\n",
      "Iteration  10\n",
      "\tMSE:  1553344.583596485\n",
      "\tR2:  0.673733868721019\n",
      "Mean Squared Error: 1357021.8637161923\n",
      "R-squared Score: 0.6946114643634484\n"
     ]
    }
   ],
   "source": [
    "from sklearn.ensemble import RandomForestRegressor\n",
    "from sklearn.metrics import mean_squared_error, r2_score\n",
    "from sklearn.model_selection import KFold\n",
    "\n",
    "# create folds\n",
    "folds = KFold(n_splits=10, shuffle=True)\n",
    "\n",
    "model = RandomForestRegressor()\n",
    "mse_ = []\n",
    "r2_ = []\n",
    "iteration = 1\n",
    "for train_index, test_index in folds.split(X):\n",
    "    # split data into trian and test\n",
    "    X_train = X.loc[train_index]\n",
    "    X_test = X.loc[test_index]\n",
    "    y_train = y.loc[train_index]\n",
    "    y_test = y.loc[test_index]\n",
    "\n",
    "    model.fit(X_train, y_train)\n",
    "    predictions = model.predict(X_test)\n",
    "    m = mean_squared_error(y_test, predictions)\n",
    "    mse_.append(m)\n",
    "    print(\"Iteration \",iteration)\n",
    "    print('\\tMSE: ',m)\n",
    "    r = r2_score(y_test, predictions)\n",
    "    r2_.append(r)\n",
    "    print('\\tR2: ',r)\n",
    "    iteration+=1\n",
    "\n",
    "# mean squared error\n",
    "print('Mean Squared Error:', sum(mse_)/len(mse_))\n",
    "\n",
    "# R-squared score\n",
    "print('R-squared Score:', sum(r2_)/len(r2_))"
   ]
  },
  {
   "cell_type": "markdown",
   "id": "660899c6",
   "metadata": {},
   "source": [
    "Iteration  1\n",
    "\tMSE:  1345855.9491598026\n",
    "\tR2:  0.6873227875677719\n",
    "Iteration  2\n",
    "\tMSE:  1294075.9037196534\n",
    "\tR2:  0.7074931218991094\n",
    "Iteration  3\n",
    "\tMSE:  1016892.274244579\n",
    "\tR2:  0.696907785667547\n",
    "Iteration  4\n",
    "\tMSE:  1640372.3732908966\n",
    "\tR2:  0.6468762840745473\n",
    "Iteration  5\n",
    "\tMSE:  1377585.8276442722\n",
    "\tR2:  0.6379468025216364\n",
    "Iteration  6\n",
    "\tMSE:  1512860.06283477\n",
    "\tR2:  0.6499476874813862\n",
    "Iteration  7\n",
    "\tMSE:  1277238.3879103253\n",
    "\tR2:  0.7277488394441106\n",
    "Iteration  8\n",
    "\tMSE:  1427578.4585652233\n",
    "\tR2:  0.6754423506031204\n",
    "Iteration  9\n",
    "\tMSE:  2349743.117600247\n",
    "\tR2:  0.630216639356857\n",
    "Iteration  10\n",
    "\tMSE:  1083460.360696806\n",
    "\tR2:  0.7585117114849722\n",
    "    \n",
    "Mean Squared Error: 1432566.2715666576\n",
    "R-squared Score: 0.6818414010101058"
   ]
  },
  {
   "cell_type": "markdown",
   "id": "c15f9594",
   "metadata": {},
   "source": [
    "## XGBoost"
   ]
  },
  {
   "cell_type": "code",
   "execution_count": 69,
   "id": "bff007dd",
   "metadata": {
    "collapsed": false,
    "jupyter": {
     "outputs_hidden": false
    },
    "tags": []
   },
   "outputs": [],
   "source": [
    "X = rent.drop(['PRICE'],axis=1)\n",
    "y = rent['PRICE']\n",
    "\n",
    "from sklearn.model_selection import train_test_split\n",
    "\n",
    "# Assuming x and y are your input and target variables, respectively\n",
    "X_train, X_test, y_train, y_test = train_test_split(X, y, test_size=0.2, random_state=42)\n"
   ]
  },
  {
   "cell_type": "code",
   "execution_count": 70,
   "id": "cddac6ae",
   "metadata": {
    "collapsed": false,
    "jupyter": {
     "outputs_hidden": false
    },
    "tags": []
   },
   "outputs": [
    {
     "name": "stdout",
     "output_type": "stream",
     "text": [
      "MSE: 1614552.925587\n",
      "R-squared Score: 0.6627573029555278\n"
     ]
    }
   ],
   "source": [
    "import pandas as pd\n",
    "import numpy as np\n",
    "import xgboost as xgb\n",
    "from sklearn.metrics import mean_squared_error\n",
    "xg_reg = xgb.XGBRegressor(objective ='reg:squarederror', colsample_bytree = 0.3, learning_rate = 0.05, max_depth = 7, alpha = 1, n_estimators = 500)\n",
    "xg_reg.fit(X_train,y_train)\n",
    "preds = xg_reg.predict(X_test)\n",
    "rmse = np.sqrt(mean_squared_error(y_test, preds))\n",
    "print(\"MSE: %f\" % (mean_squared_error(y_test, preds)))\n",
    "# R-squared score\n",
    "r2 = r2_score(y_test, preds)\n",
    "print('R-squared Score:', r2)"
   ]
  },
  {
   "cell_type": "code",
   "execution_count": 72,
   "id": "393db583",
   "metadata": {
    "tags": []
   },
   "outputs": [
    {
     "name": "stdout",
     "output_type": "stream",
     "text": [
      "RMSE: 1263.027566\n",
      "R-squared Score: 0.6667916114308984\n"
     ]
    }
   ],
   "source": [
    "import pandas as pd\n",
    "import numpy as np\n",
    "import xgboost as xgb\n",
    "from sklearn.metrics import mean_squared_error\n",
    "xg_reg = xgb.XGBRegressor(objective ='reg:squarederror', colsample_bytree = 0.3, learning_rate = 0.05, max_depth = 5, reg_lambda = 0.5, n_estimators = 1000, use_rmm=True)\n",
    "xg_reg.fit(X_train,y_train)\n",
    "preds = xg_reg.predict(X_test)\n",
    "rmse = np.sqrt(mean_squared_error(y_test, preds))\n",
    "print(\"RMSE: %f\" % (rmse))\n",
    "# R-squared score\n",
    "r2 = r2_score(y_test, preds)\n",
    "print('R-squared Score:', r2)"
   ]
  },
  {
   "cell_type": "code",
   "execution_count": 74,
   "id": "8056edf7",
   "metadata": {
    "tags": []
   },
   "outputs": [
    {
     "name": "stdout",
     "output_type": "stream",
     "text": [
      "Iteration  1\n",
      "\tMSE:  968425.4970235833\n",
      "\tR2:  0.7561361578080754\n",
      "Iteration  2\n",
      "\tMSE:  1121023.8523216066\n",
      "\tR2:  0.7305046038846166\n",
      "Iteration  3\n",
      "\tMSE:  1191684.5152771669\n",
      "\tR2:  0.7266544385141633\n",
      "Iteration  4\n",
      "\tMSE:  1401241.656903577\n",
      "\tR2:  0.7138060645561981\n",
      "Iteration  5\n",
      "\tMSE:  1343573.5507548745\n",
      "\tR2:  0.7001899146232817\n",
      "Iteration  6\n",
      "\tMSE:  947079.6174697499\n",
      "\tR2:  0.7451810160264052\n",
      "Iteration  7\n",
      "\tMSE:  1498590.8255494705\n",
      "\tR2:  0.6683947278175196\n",
      "Iteration  8\n",
      "\tMSE:  1598328.576073692\n",
      "\tR2:  0.686136181286717\n",
      "Iteration  9\n",
      "\tMSE:  1255816.8349463516\n",
      "\tR2:  0.7040599619566408\n",
      "Iteration  10\n",
      "\tMSE:  1635027.5568451034\n",
      "\tR2:  0.6629852321308427\n",
      "Mean Squared Error: 1296079.2483165176\n",
      "R-squared Score: 0.709404829860446\n"
     ]
    }
   ],
   "source": [
    "mse_ = []\n",
    "r2_ = []\n",
    "iteration = 1\n",
    "for train_index, test_index in folds.split(X):\n",
    "    model = xgb.XGBRegressor(objective ='reg:squarederror', colsample_bytree = 0.3, learning_rate = 0.05, max_depth = 7, reg_lambda = 1, n_estimators = 500, use_rmm=True)\n",
    "\n",
    "    # split data into trian and test\n",
    "    X_train = X.loc[train_index]\n",
    "    X_test = X.loc[test_index]\n",
    "    y_train = y.loc[train_index]\n",
    "    y_test = y.loc[test_index]\n",
    "\n",
    "    model.fit(X_train, y_train)\n",
    "    predictions = model.predict(X_test)\n",
    "    m = mean_squared_error(y_test, predictions)\n",
    "    mse_.append(m)\n",
    "    print(\"Iteration \",iteration)\n",
    "    print('\\tMSE: ',m)\n",
    "    r = r2_score(y_test, predictions)\n",
    "    r2_.append(r)\n",
    "    print('\\tR2: ',r)\n",
    "    iteration+=1\n",
    "\n",
    "# mean squared error\n",
    "print('Mean Squared Error:', sum(mse_)/len(mse_))\n",
    "\n",
    "# R-squared score\n",
    "print('R-squared Score:', sum(r2_)/len(r2_))"
   ]
  },
  {
   "cell_type": "code",
   "execution_count": 19,
   "id": "acafadc7",
   "metadata": {
    "collapsed": false,
    "jupyter": {
     "outputs_hidden": false
    },
    "tags": []
   },
   "outputs": [
    {
     "name": "stdout",
     "output_type": "stream",
     "text": [
      "Iteration  1\n",
      "\tMSE:  703702.8653548456\n",
      "\tR2:  0.6933293332829291\n",
      "Iteration  2\n",
      "\tMSE:  694217.814556606\n",
      "\tR2:  0.7058252196147774\n",
      "Iteration  3\n",
      "\tMSE:  653378.8131386852\n",
      "\tR2:  0.7478186207498022\n",
      "Iteration  4\n",
      "\tMSE:  676381.3283411846\n",
      "\tR2:  0.6712812450926116\n",
      "Iteration  5\n",
      "\tMSE:  540955.3404997586\n",
      "\tR2:  0.7330969601916038\n",
      "Iteration  6\n",
      "\tMSE:  576845.3474491119\n",
      "\tR2:  0.7315780253141293\n",
      "Iteration  7\n",
      "\tMSE:  628781.56754803\n",
      "\tR2:  0.7101760883460195\n",
      "Iteration  8\n",
      "\tMSE:  798284.977134763\n",
      "\tR2:  0.7165647890550394\n",
      "Iteration  9\n",
      "\tMSE:  584725.1076853456\n",
      "\tR2:  0.7370277658656903\n",
      "Iteration  10\n",
      "\tMSE:  597840.2329306799\n",
      "\tR2:  0.72367066392311\n",
      "Mean Squared Error: 645511.339463901\n",
      "R-squared Score: 0.7170368711435712\n"
     ]
    }
   ],
   "source": [
    "from sklearn.model_selection import KFold\n",
    "import pandas as pd\n",
    "import numpy as np\n",
    "import xgboost as xgb\n",
    "from sklearn.metrics import mean_squared_error, r2_score\n",
    "\n",
    "provinceCheck = pd.read_csv('dataPre.csv', encoding='utf-8',sep=\";\")\n",
    "\n",
    "X_ = X.loc[provinceCheck.index[list(provinceCheck['PROVINCE'] == 'Madrid')],]\n",
    "y_ = y.loc[provinceCheck.index[list(provinceCheck['PROVINCE'] == 'Madrid')],]\n",
    "\n",
    "X_=X_.reset_index()\n",
    "X_=X_.drop(['index'],axis=1)\n",
    "y_=y_.reset_index()\n",
    "y_=y_.drop(['index'],axis=1)\n",
    "\n",
    "mse_ = []\n",
    "r2_ = []\n",
    "iteration = 1\n",
    "folds = KFold(n_splits=10, shuffle=True)\n",
    "model = xgb.XGBRegressor(objective ='reg:squarederror', colsample_bytree = 0.3, learning_rate = 0.05, max_depth = 7, reg_lambda = 1, n_estimators = 1000, use_rmm=True)\n",
    "for train_index, test_index in folds.split(X_):\n",
    "    # split data into trian and test\n",
    "    X_train = X_.loc[train_index]\n",
    "    X_test = X_.loc[test_index]\n",
    "    y_train = y_.loc[train_index]\n",
    "    y_test = y_.loc[test_index]\n",
    "\n",
    "    model.fit(X_train, y_train)\n",
    "    predictions = model.predict(X_test)\n",
    "    m = mean_squared_error(y_test, predictions)\n",
    "    mse_.append(m)\n",
    "    print(\"Iteration \",iteration)\n",
    "    print('\\tMSE: ',m)\n",
    "    r = r2_score(y_test, predictions)\n",
    "    r2_.append(r)\n",
    "    print('\\tR2: ',r)\n",
    "    iteration+=1\n",
    "\n",
    "# mean squared error\n",
    "print('Mean Squared Error:', sum(mse_)/len(mse_))\n",
    "\n",
    "# R-squared score\n",
    "print('R-squared Score:', sum(r2_)/len(r2_))"
   ]
  },
  {
   "cell_type": "code",
   "execution_count": 75,
   "id": "49806797",
   "metadata": {
    "collapsed": false,
    "jupyter": {
     "outputs_hidden": false
    },
    "tags": []
   },
   "outputs": [
    {
     "name": "stdout",
     "output_type": "stream",
     "text": [
      "\tMSE:  805994.9653527008\n",
      "\tR2:  0.8180377831820214\n"
     ]
    }
   ],
   "source": [
    "model.fit(X, y)\n",
    "predictions = model.predict(X)\n",
    "m = mean_squared_error(y, predictions)\n",
    "print('\\tMSE: ',m)\n",
    "r = r2_score(y, predictions)\n",
    "print('\\tR2: ',r)"
   ]
  },
  {
   "cell_type": "code",
   "execution_count": 76,
   "id": "a8b215fe",
   "metadata": {
    "collapsed": false,
    "jupyter": {
     "outputs_hidden": false
    },
    "tags": []
   },
   "outputs": [
    {
     "name": "stderr",
     "output_type": "stream",
     "text": [
      "/Library/Frameworks/Python.framework/Versions/3.11/lib/python3.11/site-packages/IPython/core/events.py:89: UserWarning: Glyph 129 (\\x81) missing from current font.\n",
      "  func(*args, **kwargs)\n",
      "/Library/Frameworks/Python.framework/Versions/3.11/lib/python3.11/site-packages/IPython/core/pylabtools.py:152: UserWarning: Glyph 129 (\\x81) missing from current font.\n",
      "  fig.canvas.print_figure(bytes_io, **kw)\n"
     ]
    },
    {
     "data": {
      "image/png": "[encoded data removed]",
      "text/plain": [
       "<Figure size 600x1000 with 1 Axes>"
      ]
     },
     "metadata": {},
     "output_type": "display_data"
    }
   ],
   "source": [
    "import xgboost\n",
    "from matplotlib.pyplot import figure\n",
    "\n",
    "ax = xgboost.plot_importance(model,max_num_features=30, importance_type=\"weight\")\n",
    "fig = ax.figure\n",
    "fig.set_size_inches(6, 10)"
   ]
  },
  {
   "cell_type": "code",
   "execution_count": 47,
   "id": "e9ca0e82",
   "metadata": {
    "collapsed": false,
    "jupyter": {
     "outputs_hidden": false
    }
   },
   "outputs": [
    {
     "name": "stdout",
     "output_type": "stream",
     "text": [
      "\tMSE:  321878.6163704476\n",
      "\tR2:  0.9226625764326091\n"
     ]
    },
    {
     "data": {
      "image/png": "[encoded data removed]",
      "text/plain": [
       "<Figure size 600x1000 with 1 Axes>"
      ]
     },
     "metadata": {},
     "output_type": "display_data"
    }
   ],
   "source": [
    "model.fit(X_, y_)\n",
    "predictions = model.predict(X_)\n",
    "m = mean_squared_error(y_, predictions)\n",
    "print('\\tMSE: ', m)\n",
    "r = r2_score(y_, predictions)\n",
    "print('\\tR2: ', r)\n",
    "ax = xgboost.plot_importance(model,max_num_features=30, importance_type=\"weight\")\n",
    "fig = ax.figure\n",
    "fig.set_size_inches(6, 10)"
   ]
  },
  {
   "cell_type": "code",
   "execution_count": 38,
   "id": "fcc89baa",
   "metadata": {
    "collapsed": false,
    "jupyter": {
     "outputs_hidden": false
    }
   },
   "outputs": [],
   "source": [
    "provinceCheck = pd.read_csv('dataPre.csv', encoding='utf-8',sep=\";\")"
   ]
  },
  {
   "cell_type": "code",
   "execution_count": 54,
   "id": "564b6e3a",
   "metadata": {
    "collapsed": false,
    "jupyter": {
     "outputs_hidden": false
    }
   },
   "outputs": [
    {
     "ename": "KeyError",
     "evalue": "'PROVINCE'",
     "output_type": "error",
     "traceback": [
      "\u001b[1;31m---------------------------------------------------------------------------\u001b[0m",
      "\u001b[1;31mKeyError\u001b[0m                                  Traceback (most recent call last)",
      "File \u001b[1;32m~\\Documents\\Analisis TFG\\venv\\lib\\site-packages\\pandas\\core\\indexes\\base.py:3802\u001b[0m, in \u001b[0;36mIndex.get_loc\u001b[1;34m(self, key, method, tolerance)\u001b[0m\n\u001b[0;32m   3801\u001b[0m \u001b[38;5;28;01mtry\u001b[39;00m:\n\u001b[1;32m-> 3802\u001b[0m     \u001b[38;5;28;01mreturn\u001b[39;00m \u001b[38;5;28;43mself\u001b[39;49m\u001b[38;5;241;43m.\u001b[39;49m\u001b[43m_engine\u001b[49m\u001b[38;5;241;43m.\u001b[39;49m\u001b[43mget_loc\u001b[49m\u001b[43m(\u001b[49m\u001b[43mcasted_key\u001b[49m\u001b[43m)\u001b[49m\n\u001b[0;32m   3803\u001b[0m \u001b[38;5;28;01mexcept\u001b[39;00m \u001b[38;5;167;01mKeyError\u001b[39;00m \u001b[38;5;28;01mas\u001b[39;00m err:\n",
      "File \u001b[1;32m~\\Documents\\Analisis TFG\\venv\\lib\\site-packages\\pandas\\_libs\\index.pyx:138\u001b[0m, in \u001b[0;36mpandas._libs.index.IndexEngine.get_loc\u001b[1;34m()\u001b[0m\n",
      "File \u001b[1;32m~\\Documents\\Analisis TFG\\venv\\lib\\site-packages\\pandas\\_libs\\index.pyx:165\u001b[0m, in \u001b[0;36mpandas._libs.index.IndexEngine.get_loc\u001b[1;34m()\u001b[0m\n",
      "File \u001b[1;32mpandas\\_libs\\hashtable_class_helper.pxi:5745\u001b[0m, in \u001b[0;36mpandas._libs.hashtable.PyObjectHashTable.get_item\u001b[1;34m()\u001b[0m\n",
      "File \u001b[1;32mpandas\\_libs\\hashtable_class_helper.pxi:5753\u001b[0m, in \u001b[0;36mpandas._libs.hashtable.PyObjectHashTable.get_item\u001b[1;34m()\u001b[0m\n",
      "\u001b[1;31mKeyError\u001b[0m: 'PROVINCE'",
      "\nThe above exception was the direct cause of the following exception:\n",
      "\u001b[1;31mKeyError\u001b[0m                                  Traceback (most recent call last)",
      "Cell \u001b[1;32mIn[54], line 1\u001b[0m\n\u001b[1;32m----> 1\u001b[0m X\u001b[38;5;241m.\u001b[39mloc[provinceCheck\u001b[38;5;241m.\u001b[39mindex[\u001b[38;5;28mlist\u001b[39m(\u001b[43mprovinceCheck\u001b[49m\u001b[43m[\u001b[49m\u001b[38;5;124;43m'\u001b[39;49m\u001b[38;5;124;43mPROVINCE\u001b[39;49m\u001b[38;5;124;43m'\u001b[39;49m\u001b[43m]\u001b[49m \u001b[38;5;241m==\u001b[39m \u001b[38;5;124m'\u001b[39m\u001b[38;5;124mMadrid\u001b[39m\u001b[38;5;124m'\u001b[39m)],]\n",
      "File \u001b[1;32m~\\Documents\\Analisis TFG\\venv\\lib\\site-packages\\pandas\\core\\frame.py:3807\u001b[0m, in \u001b[0;36mDataFrame.__getitem__\u001b[1;34m(self, key)\u001b[0m\n\u001b[0;32m   3805\u001b[0m \u001b[38;5;28;01mif\u001b[39;00m \u001b[38;5;28mself\u001b[39m\u001b[38;5;241m.\u001b[39mcolumns\u001b[38;5;241m.\u001b[39mnlevels \u001b[38;5;241m>\u001b[39m \u001b[38;5;241m1\u001b[39m:\n\u001b[0;32m   3806\u001b[0m     \u001b[38;5;28;01mreturn\u001b[39;00m \u001b[38;5;28mself\u001b[39m\u001b[38;5;241m.\u001b[39m_getitem_multilevel(key)\n\u001b[1;32m-> 3807\u001b[0m indexer \u001b[38;5;241m=\u001b[39m \u001b[38;5;28;43mself\u001b[39;49m\u001b[38;5;241;43m.\u001b[39;49m\u001b[43mcolumns\u001b[49m\u001b[38;5;241;43m.\u001b[39;49m\u001b[43mget_loc\u001b[49m\u001b[43m(\u001b[49m\u001b[43mkey\u001b[49m\u001b[43m)\u001b[49m\n\u001b[0;32m   3808\u001b[0m \u001b[38;5;28;01mif\u001b[39;00m is_integer(indexer):\n\u001b[0;32m   3809\u001b[0m     indexer \u001b[38;5;241m=\u001b[39m [indexer]\n",
      "File \u001b[1;32m~\\Documents\\Analisis TFG\\venv\\lib\\site-packages\\pandas\\core\\indexes\\base.py:3804\u001b[0m, in \u001b[0;36mIndex.get_loc\u001b[1;34m(self, key, method, tolerance)\u001b[0m\n\u001b[0;32m   3802\u001b[0m     \u001b[38;5;28;01mreturn\u001b[39;00m \u001b[38;5;28mself\u001b[39m\u001b[38;5;241m.\u001b[39m_engine\u001b[38;5;241m.\u001b[39mget_loc(casted_key)\n\u001b[0;32m   3803\u001b[0m \u001b[38;5;28;01mexcept\u001b[39;00m \u001b[38;5;167;01mKeyError\u001b[39;00m \u001b[38;5;28;01mas\u001b[39;00m err:\n\u001b[1;32m-> 3804\u001b[0m     \u001b[38;5;28;01mraise\u001b[39;00m \u001b[38;5;167;01mKeyError\u001b[39;00m(key) \u001b[38;5;28;01mfrom\u001b[39;00m \u001b[38;5;21;01merr\u001b[39;00m\n\u001b[0;32m   3805\u001b[0m \u001b[38;5;28;01mexcept\u001b[39;00m \u001b[38;5;167;01mTypeError\u001b[39;00m:\n\u001b[0;32m   3806\u001b[0m     \u001b[38;5;66;03m# If we have a listlike key, _check_indexing_error will raise\u001b[39;00m\n\u001b[0;32m   3807\u001b[0m     \u001b[38;5;66;03m#  InvalidIndexError. Otherwise we fall through and re-raise\u001b[39;00m\n\u001b[0;32m   3808\u001b[0m     \u001b[38;5;66;03m#  the TypeError.\u001b[39;00m\n\u001b[0;32m   3809\u001b[0m     \u001b[38;5;28mself\u001b[39m\u001b[38;5;241m.\u001b[39m_check_indexing_error(key)\n",
      "\u001b[1;31mKeyError\u001b[0m: 'PROVINCE'"
     ]
    }
   ],
   "source": [
    "X.loc[provinceCheck.index[list(provinceCheck['PROVINCE'] == 'Madrid')],]"
   ]
  },
  {
   "cell_type": "code",
   "execution_count": 17,
   "id": "3a0213c4",
   "metadata": {
    "collapsed": false,
    "jupyter": {
     "outputs_hidden": false
    }
   },
   "outputs": [
    {
     "data": {
      "text/html": [
       "<div>\n",
       "<style scoped>\n",
       "    .dataframe tbody tr th:only-of-type {\n",
       "        vertical-align: middle;\n",
       "    }\n",
       "\n",
       "    .dataframe tbody tr th {\n",
       "        vertical-align: top;\n",
       "    }\n",
       "\n",
       "    .dataframe thead th {\n",
       "        text-align: right;\n",
       "    }\n",
       "</style>\n",
       "<table border=\"1\" class=\"dataframe\">\n",
       "  <thead>\n",
       "    <tr style=\"text-align: right;\">\n",
       "      <th></th>\n",
       "      <th>PRICE</th>\n",
       "    </tr>\n",
       "  </thead>\n",
       "  <tbody>\n",
       "    <tr>\n",
       "      <th>0</th>\n",
       "      <td>815</td>\n",
       "    </tr>\n",
       "    <tr>\n",
       "      <th>1</th>\n",
       "      <td>795</td>\n",
       "    </tr>\n",
       "    <tr>\n",
       "      <th>2</th>\n",
       "      <td>850</td>\n",
       "    </tr>\n",
       "    <tr>\n",
       "      <th>3</th>\n",
       "      <td>1025</td>\n",
       "    </tr>\n",
       "    <tr>\n",
       "      <th>4</th>\n",
       "      <td>750</td>\n",
       "    </tr>\n",
       "    <tr>\n",
       "      <th>...</th>\n",
       "      <td>...</td>\n",
       "    </tr>\n",
       "    <tr>\n",
       "      <th>10665</th>\n",
       "      <td>3500</td>\n",
       "    </tr>\n",
       "    <tr>\n",
       "      <th>10666</th>\n",
       "      <td>12000</td>\n",
       "    </tr>\n",
       "    <tr>\n",
       "      <th>10667</th>\n",
       "      <td>1450</td>\n",
       "    </tr>\n",
       "    <tr>\n",
       "      <th>10668</th>\n",
       "      <td>1200</td>\n",
       "    </tr>\n",
       "    <tr>\n",
       "      <th>10669</th>\n",
       "      <td>1800</td>\n",
       "    </tr>\n",
       "  </tbody>\n",
       "</table>\n",
       "<p>10670 rows × 1 columns</p>\n",
       "</div>"
      ],
      "text/plain": [
       "       PRICE\n",
       "0        815\n",
       "1        795\n",
       "2        850\n",
       "3       1025\n",
       "4        750\n",
       "...      ...\n",
       "10665   3500\n",
       "10666  12000\n",
       "10667   1450\n",
       "10668   1200\n",
       "10669   1800\n",
       "\n",
       "[10670 rows x 1 columns]"
      ]
     },
     "execution_count": 17,
     "metadata": {},
     "output_type": "execute_result"
    }
   ],
   "source": [
    "provinceCheck = pd.read_csv('dataPre.csv', encoding='utf-8',sep=\";\")\n",
    "\n",
    "X_ = X.loc[provinceCheck.index[list(provinceCheck['PROVINCE'] == 'Madrid')],]\n",
    "y_ = y.loc[provinceCheck.index[list(provinceCheck['PROVINCE'] == 'Madrid')],]\n",
    "\n",
    "X_=X_.reset_index()\n",
    "X_=X_.drop(['index'],axis=1)\n",
    "y_=y_.reset_index()\n",
    "y_=y_.drop(['index'],axis=1)\n",
    "\n",
    "y_"
   ]
  },
  {
   "cell_type": "markdown",
   "id": "1ea1ddfb",
   "metadata": {},
   "source": [
    "### Neural Network"
   ]
  },
  {
   "cell_type": "code",
   "execution_count": 30,
   "id": "ae778385",
   "metadata": {
    "collapsed": false,
    "jupyter": {
     "outputs_hidden": false
    },
    "tags": []
   },
   "outputs": [],
   "source": [
    "import tensorflow as tf\n",
    "import numpy as np\n",
    "#print(\"Number of GPUs available: \",len(tf.config.list_physical_devices('GPU')))"
   ]
  },
  {
   "cell_type": "code",
   "execution_count": 31,
   "id": "1db8c8ba",
   "metadata": {
    "collapsed": false,
    "jupyter": {
     "outputs_hidden": false
    },
    "tags": []
   },
   "outputs": [],
   "source": [
    "X = rent.drop(['PRICE'],axis=1)\n",
    "y = rent['PRICE']\n",
    "X = X.drop(columns = rent.columns.difference(sold.columns))\n",
    "#provinceCheck = pd.read_csv('dataPre.csv', encoding='utf-8',sep=\";\")\n",
    "#X = X.loc[provinceCheck.index[list(provinceCheck['PROVINCE'] == 'Madrid')],]\n",
    "#y = y.loc[provinceCheck.index[list(provinceCheck['PROVINCE'] == 'Madrid')],]"
   ]
  },
  {
   "cell_type": "code",
   "execution_count": 32,
   "id": "b07a49c4-5b41-418d-b945-532c1314977b",
   "metadata": {
    "tags": []
   },
   "outputs": [],
   "source": [
    "mean_price = np.mean(y)\n",
    "sd_price = np.std(y)\n",
    "y=(y-np.mean(y))/np.std(y)"
   ]
  },
  {
   "cell_type": "code",
   "execution_count": 33,
   "id": "1b22e37a-1ffd-4103-8f1e-588e45a5dadb",
   "metadata": {
    "tags": []
   },
   "outputs": [],
   "source": [
    "X['AREA'] = (X['AREA'] - np.mean(X['AREA']))/np.std(X['AREA'])\n",
    "X['ROOMS'] = (X['ROOMS'] - np.mean(X['ROOMS']))/np.std(X['ROOMS'])\n",
    "X['FLOOR'] = (X['FLOOR'] - np.mean(X['FLOOR']))/np.std(X['FLOOR'])\n",
    "X['POPULATION'] = (X['POPULATION'] - np.mean(X['POPULATION']))/np.std(X['POPULATION'])\n",
    "\n",
    "# ROOMS; AREA; FLOOR; POPULATION"
   ]
  },
  {
   "cell_type": "code",
   "execution_count": 34,
   "id": "3aa1e83e-e22b-4bde-a707-c076221c3f9e",
   "metadata": {
    "tags": []
   },
   "outputs": [
    {
     "data": {
      "text/plain": [
       "0       -0.448564\n",
       "1       -0.448564\n",
       "2       -0.448564\n",
       "3       -0.448564\n",
       "4       -0.448564\n",
       "           ...   \n",
       "54933   -0.657935\n",
       "54934   -0.657935\n",
       "54935   -0.657935\n",
       "54936   -0.657935\n",
       "54937   -0.657935\n",
       "Name: POPULATION, Length: 54938, dtype: float64"
      ]
     },
     "execution_count": 34,
     "metadata": {},
     "output_type": "execute_result"
    }
   ],
   "source": [
    "X['POPULATION']"
   ]
  },
  {
   "cell_type": "code",
   "execution_count": 35,
   "id": "6028c299",
   "metadata": {
    "collapsed": false,
    "jupyter": {
     "outputs_hidden": false
    },
    "tags": []
   },
   "outputs": [
    {
     "name": "stdout",
     "output_type": "stream",
     "text": [
      "Epoch 1/200\n",
      "386/387 [============================>.] - ETA: 0s - loss: 0.4120 - mse: 0.4120\n",
      "Epoch 1: val_loss improved from inf to 0.38162, saving model to best_weights_v2.h5\n",
      "387/387 [==============================] - 1s 3ms/step - loss: 0.4118 - mse: 0.4118 - val_loss: 0.3816 - val_mse: 0.3816\n",
      "Epoch 2/200\n",
      "371/387 [===========================>..] - ETA: 0s - loss: 0.3297 - mse: 0.3297\n",
      "Epoch 2: val_loss improved from 0.38162 to 0.35160, saving model to best_weights_v2.h5\n",
      "387/387 [==============================] - 1s 3ms/step - loss: 0.3264 - mse: 0.3264 - val_loss: 0.3516 - val_mse: 0.3516\n",
      "Epoch 3/200\n",
      "370/387 [===========================>..] - ETA: 0s - loss: 0.3032 - mse: 0.3032\n",
      "Epoch 3: val_loss improved from 0.35160 to 0.34026, saving model to best_weights_v2.h5\n",
      "387/387 [==============================] - 1s 3ms/step - loss: 0.3020 - mse: 0.3020 - val_loss: 0.3403 - val_mse: 0.3403\n",
      "Epoch 4/200\n",
      "385/387 [============================>.] - ETA: 0s - loss: 0.2829 - mse: 0.2829\n",
      "Epoch 4: val_loss improved from 0.34026 to 0.32519, saving model to best_weights_v2.h5\n",
      "387/387 [==============================] - 1s 3ms/step - loss: 0.2823 - mse: 0.2823 - val_loss: 0.3252 - val_mse: 0.3252\n",
      "Epoch 5/200\n",
      "372/387 [===========================>..] - ETA: 0s - loss: 0.2749 - mse: 0.2749\n",
      "Epoch 5: val_loss did not improve from 0.32519\n",
      "387/387 [==============================] - 1s 3ms/step - loss: 0.2741 - mse: 0.2741 - val_loss: 0.3464 - val_mse: 0.3464\n",
      "Epoch 6/200\n",
      "369/387 [===========================>..] - ETA: 0s - loss: 0.2513 - mse: 0.2513\n",
      "Epoch 6: val_loss did not improve from 0.32519\n",
      "387/387 [==============================] - 1s 3ms/step - loss: 0.2631 - mse: 0.2631 - val_loss: 0.3415 - val_mse: 0.3415\n",
      "Epoch 7/200\n",
      "384/387 [============================>.] - ETA: 0s - loss: 0.2625 - mse: 0.2625\n",
      "Epoch 7: val_loss did not improve from 0.32519\n",
      "387/387 [==============================] - 1s 3ms/step - loss: 0.2617 - mse: 0.2617 - val_loss: 0.3371 - val_mse: 0.3371\n",
      "Epoch 8/200\n",
      "380/387 [============================>.] - ETA: 0s - loss: 0.2579 - mse: 0.2579\n",
      "Epoch 8: val_loss improved from 0.32519 to 0.32410, saving model to best_weights_v2.h5\n",
      "387/387 [==============================] - 1s 3ms/step - loss: 0.2558 - mse: 0.2558 - val_loss: 0.3241 - val_mse: 0.3241\n",
      "Epoch 9/200\n",
      "384/387 [============================>.] - ETA: 0s - loss: 0.2481 - mse: 0.2481\n",
      "Epoch 9: val_loss did not improve from 0.32410\n",
      "387/387 [==============================] - 1s 3ms/step - loss: 0.2475 - mse: 0.2475 - val_loss: 0.3327 - val_mse: 0.3327\n",
      "Epoch 10/200\n",
      "372/387 [===========================>..] - ETA: 0s - loss: 0.2440 - mse: 0.2440\n",
      "Epoch 10: val_loss improved from 0.32410 to 0.32380, saving model to best_weights_v2.h5\n",
      "387/387 [==============================] - 1s 3ms/step - loss: 0.2448 - mse: 0.2448 - val_loss: 0.3238 - val_mse: 0.3238\n",
      "Epoch 11/200\n",
      "376/387 [============================>.] - ETA: 0s - loss: 0.2436 - mse: 0.2436\n",
      "Epoch 11: val_loss did not improve from 0.32380\n",
      "387/387 [==============================] - 1s 3ms/step - loss: 0.2417 - mse: 0.2417 - val_loss: 0.3270 - val_mse: 0.3270\n",
      "Epoch 12/200\n",
      "376/387 [============================>.] - ETA: 0s - loss: 0.2369 - mse: 0.2369\n",
      "Epoch 12: val_loss did not improve from 0.32380\n",
      "387/387 [==============================] - 1s 3ms/step - loss: 0.2380 - mse: 0.2380 - val_loss: 0.3338 - val_mse: 0.3338\n",
      "Epoch 13/200\n",
      "377/387 [============================>.] - ETA: 0s - loss: 0.2370 - mse: 0.2370\n",
      "Epoch 13: val_loss did not improve from 0.32380\n",
      "387/387 [==============================] - 1s 3ms/step - loss: 0.2356 - mse: 0.2356 - val_loss: 0.3303 - val_mse: 0.3303\n",
      "Epoch 14/200\n",
      "384/387 [============================>.] - ETA: 0s - loss: 0.2356 - mse: 0.2356\n",
      "Epoch 14: val_loss did not improve from 0.32380\n",
      "387/387 [==============================] - 1s 3ms/step - loss: 0.2348 - mse: 0.2348 - val_loss: 0.3286 - val_mse: 0.3286\n",
      "Epoch 15/200\n",
      "369/387 [===========================>..] - ETA: 0s - loss: 0.2255 - mse: 0.2255\n",
      "Epoch 15: val_loss did not improve from 0.32380\n",
      "387/387 [==============================] - 1s 3ms/step - loss: 0.2290 - mse: 0.2290 - val_loss: 0.3251 - val_mse: 0.3251\n",
      "Epoch 16/200\n",
      "385/387 [============================>.] - ETA: 0s - loss: 0.2277 - mse: 0.2277\n",
      "Epoch 16: val_loss did not improve from 0.32380\n",
      "387/387 [==============================] - 1s 3ms/step - loss: 0.2273 - mse: 0.2273 - val_loss: 0.3262 - val_mse: 0.3262\n",
      "Epoch 17/200\n",
      "382/387 [============================>.] - ETA: 0s - loss: 0.2281 - mse: 0.2281\n",
      "Epoch 17: val_loss improved from 0.32380 to 0.32046, saving model to best_weights_v2.h5\n",
      "387/387 [==============================] - 1s 3ms/step - loss: 0.2274 - mse: 0.2274 - val_loss: 0.3205 - val_mse: 0.3205\n",
      "Epoch 18/200\n",
      "370/387 [===========================>..] - ETA: 0s - loss: 0.2233 - mse: 0.2233\n",
      "Epoch 18: val_loss did not improve from 0.32046\n",
      "387/387 [==============================] - 1s 3ms/step - loss: 0.2232 - mse: 0.2232 - val_loss: 0.3364 - val_mse: 0.3364\n",
      "Epoch 19/200\n",
      "378/387 [============================>.] - ETA: 0s - loss: 0.2217 - mse: 0.2217\n",
      "Epoch 19: val_loss did not improve from 0.32046\n",
      "387/387 [==============================] - 1s 3ms/step - loss: 0.2207 - mse: 0.2207 - val_loss: 0.3358 - val_mse: 0.3358\n",
      "Epoch 20/200\n",
      "381/387 [============================>.] - ETA: 0s - loss: 0.2139 - mse: 0.2139\n",
      "Epoch 20: val_loss did not improve from 0.32046\n",
      "387/387 [==============================] - 1s 3ms/step - loss: 0.2173 - mse: 0.2173 - val_loss: 0.3293 - val_mse: 0.3293\n",
      "Epoch 21/200\n",
      "371/387 [===========================>..] - ETA: 0s - loss: 0.2177 - mse: 0.2177\n",
      "Epoch 21: val_loss did not improve from 0.32046\n",
      "387/387 [==============================] - 1s 3ms/step - loss: 0.2179 - mse: 0.2179 - val_loss: 0.3288 - val_mse: 0.3288\n",
      "Epoch 22/200\n",
      "382/387 [============================>.] - ETA: 0s - loss: 0.2142 - mse: 0.2142\n",
      "Epoch 22: val_loss did not improve from 0.32046\n",
      "387/387 [==============================] - 1s 3ms/step - loss: 0.2139 - mse: 0.2139 - val_loss: 0.3342 - val_mse: 0.3342\n",
      "Epoch 23/200\n",
      "380/387 [============================>.] - ETA: 0s - loss: 0.2116 - mse: 0.2116\n",
      "Epoch 23: val_loss did not improve from 0.32046\n",
      "387/387 [==============================] - 1s 3ms/step - loss: 0.2116 - mse: 0.2116 - val_loss: 0.3271 - val_mse: 0.3271\n",
      "Epoch 24/200\n",
      "379/387 [============================>.] - ETA: 0s - loss: 0.2088 - mse: 0.2088\n",
      "Epoch 24: val_loss did not improve from 0.32046\n",
      "387/387 [==============================] - 1s 3ms/step - loss: 0.2081 - mse: 0.2081 - val_loss: 0.3494 - val_mse: 0.3494\n",
      "Epoch 25/200\n",
      "369/387 [===========================>..] - ETA: 0s - loss: 0.2119 - mse: 0.2119\n",
      "Epoch 25: val_loss did not improve from 0.32046\n",
      "387/387 [==============================] - 1s 3ms/step - loss: 0.2090 - mse: 0.2090 - val_loss: 0.3291 - val_mse: 0.3291\n",
      "Epoch 26/200\n",
      "387/387 [==============================] - ETA: 0s - loss: 0.2092 - mse: 0.2092\n",
      "Epoch 26: val_loss did not improve from 0.32046\n",
      "387/387 [==============================] - 1s 3ms/step - loss: 0.2092 - mse: 0.2092 - val_loss: 0.3571 - val_mse: 0.3571\n",
      "Epoch 27/200\n",
      "381/387 [============================>.] - ETA: 0s - loss: 0.2050 - mse: 0.2050\n",
      "Epoch 27: val_loss did not improve from 0.32046\n",
      "387/387 [==============================] - 1s 3ms/step - loss: 0.2039 - mse: 0.2039 - val_loss: 0.3273 - val_mse: 0.3273\n",
      "1717/1717 [==============================] - 1s 662us/step\n",
      "\tMSE:  0.2226479361340313\n",
      "\tR2:  0.7773520638659687\n"
     ]
    }
   ],
   "source": [
    "from sklearn.metrics import mean_squared_error, r2_score\n",
    "import tensorflow as tf\n",
    "from tensorflow import keras\n",
    "from tensorflow.keras.callbacks import EarlyStopping\n",
    "from tensorflow.keras.callbacks import ModelCheckpoint\n",
    "from tensorflow.keras.preprocessing.image import ImageDataGenerator\n",
    "from sklearn.model_selection import train_test_split\n",
    "\n",
    "X_train, X_val, y_train, y_val = train_test_split(X, y, test_size=0.1, random_state=27)\n",
    "\n",
    "\n",
    "#Define the model\n",
    "model = keras.Sequential([\n",
    "    keras.layers.Dense(800, activation='relu', input_shape=(X.shape[1],)),\n",
    "    #keras.layers.Dense(10, activation='relu'),\n",
    "    keras.layers.Dense(1, activation='linear')\n",
    "])\n",
    "\n",
    "#Compile the model\n",
    "model.compile(loss=\"mse\", optimizer='adam', metrics=['mse'])\n",
    "\n",
    "early_stopping = EarlyStopping(monitor='val_loss', patience=10, restore_best_weights=True)\n",
    "# Create a ModelCheckpoint callback\n",
    "checkpoint_filepath = \"best_weights_v2.h5\"\n",
    "model_checkpoint = ModelCheckpoint(\n",
    "    filepath=checkpoint_filepath,\n",
    "    monitor='val_loss',\n",
    "    mode='min',\n",
    "    save_best_only=True,\n",
    "    save_weights_only=True,\n",
    "    verbose=1\n",
    ")\n",
    "\n",
    "callbacks = [early_stopping, model_checkpoint]\n",
    "\n",
    "model.fit(x=X_train, y=y_train, validation_data=(X_val, y_val), epochs=200, callbacks=[callbacks], batch_size = 128)\n",
    "\n",
    "predictions=model.predict(X)\n",
    "\n",
    "m = mean_squared_error(y, predictions)\n",
    "print('\\tMSE: ', m)\n",
    "r = r2_score(y, predictions)\n",
    "print('\\tR2: ', r)"
   ]
  },
  {
   "cell_type": "code",
   "execution_count": 9,
   "id": "06bb6e23",
   "metadata": {
    "collapsed": false,
    "jupyter": {
     "outputs_hidden": false
    },
    "tags": []
   },
   "outputs": [
    {
     "name": "stdout",
     "output_type": "stream",
     "text": [
      "1717/1717 [==============================] - 1s 789us/step\n"
     ]
    }
   ],
   "source": [
    "predictions=model.predict(X)"
   ]
  },
  {
   "cell_type": "code",
   "execution_count": 10,
   "id": "a1b2bc4b",
   "metadata": {
    "collapsed": false,
    "jupyter": {
     "outputs_hidden": false
    },
    "tags": []
   },
   "outputs": [
    {
     "name": "stdout",
     "output_type": "stream",
     "text": [
      "\tMSE:  0.23325707126326664\n",
      "\tR2:  0.7667429287367333\n"
     ]
    }
   ],
   "source": [
    "from sklearn.metrics import mean_squared_error, r2_score\n",
    "m = mean_squared_error(y, predictions)\n",
    "print('\\tMSE: ', m)\n",
    "r = r2_score(y, predictions)\n",
    "print('\\tR2: ', r)"
   ]
  },
  {
   "cell_type": "code",
   "execution_count": 11,
   "id": "daa5be38",
   "metadata": {
    "collapsed": false,
    "jupyter": {
     "outputs_hidden": false
    },
    "tags": []
   },
   "outputs": [
    {
     "name": "stdout",
     "output_type": "stream",
     "text": [
      "<keras.engine.sequential.Sequential object at 0x28a9abf50>\n"
     ]
    }
   ],
   "source": [
    "print(model)"
   ]
  },
  {
   "cell_type": "code",
   "execution_count": 36,
   "id": "976bb10f-60e7-4b21-9217-f2313736bca1",
   "metadata": {
    "tags": []
   },
   "outputs": [],
   "source": [
    "sold_X = sold.drop(['PRICE'],axis=1)\n",
    "sold_y = sold['PRICE']\n",
    "sold_X = sold_X.drop(columns = sold_X.columns.difference(X.columns))\n",
    "mean_price_sold = np.mean(sold_y)\n",
    "sd_price_sold = np.std(sold_y)\n",
    "sold_y=(sold_y-np.mean(sold_y))/np.std(sold_y)\n",
    "sold_X['AREA'] = (sold_X['AREA'] - np.mean(sold_X['AREA']))/np.std(sold_X['AREA'])\n",
    "sold_X['ROOMS'] = (sold_X['ROOMS'] - np.mean(sold_X['ROOMS']))/np.std(sold_X['ROOMS'])\n",
    "sold_X['FLOOR'] = (sold_X['FLOOR'] - np.mean(sold_X['FLOOR']))/np.std(sold_X['FLOOR'])\n",
    "sold_X['POPULATION'] = (sold_X['POPULATION'] - np.mean(sold_X['POPULATION']))/np.std(sold_X['POPULATION'])"
   ]
  },
  {
   "cell_type": "code",
   "execution_count": 37,
   "id": "1f6d2155-5522-4d2e-ace2-134d794524fa",
   "metadata": {
    "tags": []
   },
   "outputs": [
    {
     "data": {
      "text/plain": [
       "Index(['PROVINCECiudad.Real'], dtype='object')"
      ]
     },
     "execution_count": 37,
     "metadata": {},
     "output_type": "execute_result"
    }
   ],
   "source": [
    "rent.columns.difference(sold.columns)"
   ]
  },
  {
   "cell_type": "code",
   "execution_count": 38,
   "id": "bf8d8da7-10e2-421f-935a-5d97dadfa158",
   "metadata": {
    "tags": []
   },
   "outputs": [
    {
     "name": "stdout",
     "output_type": "stream",
     "text": [
      "14491/14491 [==============================] - 8s 541us/step\n"
     ]
    }
   ],
   "source": [
    "predicted_price = model.predict(sold_X)"
   ]
  },
  {
   "cell_type": "code",
   "execution_count": 39,
   "id": "f282a3c8-ae94-40f9-ab5a-8579037e4c54",
   "metadata": {
    "tags": []
   },
   "outputs": [
    {
     "data": {
      "text/plain": [
       "(463700, 1)"
      ]
     },
     "execution_count": 39,
     "metadata": {},
     "output_type": "execute_result"
    }
   ],
   "source": [
    "predicted_price.shape"
   ]
  },
  {
   "cell_type": "code",
   "execution_count": 40,
   "id": "1768d14b-d915-45d5-8bf9-ec67a8433eca",
   "metadata": {
    "tags": []
   },
   "outputs": [],
   "source": [
    "predicted_price = predicted_price*sd_price + mean_price"
   ]
  },
  {
   "cell_type": "code",
   "execution_count": 41,
   "id": "d641507f-3935-4d87-99ce-459f850270db",
   "metadata": {
    "tags": []
   },
   "outputs": [
    {
     "data": {
      "text/plain": [
       "array([[ 924.91156],\n",
       "       [ 782.663  ],\n",
       "       [ 737.2213 ],\n",
       "       ...,\n",
       "       [1489.2334 ],\n",
       "       [ 539.97485],\n",
       "       [ 155.14294]], dtype=float32)"
      ]
     },
     "execution_count": 41,
     "metadata": {},
     "output_type": "execute_result"
    }
   ],
   "source": [
    "predicted_price"
   ]
  },
  {
   "cell_type": "code",
   "execution_count": 42,
   "id": "42ae576f-bc12-4b0a-bbf3-5fd00ba56dc7",
   "metadata": {
    "tags": []
   },
   "outputs": [],
   "source": [
    "sold_predicted = sold.copy(deep=True)"
   ]
  },
  {
   "cell_type": "code",
   "execution_count": 43,
   "id": "1adb5a1a-324d-4692-8094-72fe42c878ae",
   "metadata": {
    "tags": []
   },
   "outputs": [],
   "source": [
    "sold_predicted['RENT_PRICE']=predicted_price"
   ]
  },
  {
   "cell_type": "code",
   "execution_count": 44,
   "id": "c1fbe07e-5006-4778-86f7-0c91f3f77b75",
   "metadata": {
    "tags": []
   },
   "outputs": [],
   "source": [
    "sold_predicted['PROFITABILITY'] = sold_predicted['RENT_PRICE']*12 / sold_predicted['PRICE']"
   ]
  },
  {
   "cell_type": "code",
   "execution_count": 45,
   "id": "6015485f-8187-4ba6-af61-76caacb73e48",
   "metadata": {
    "tags": []
   },
   "outputs": [
    {
     "data": {
      "text/html": [
       "<div>\n",
       "<style scoped>\n",
       "    .dataframe tbody tr th:only-of-type {\n",
       "        vertical-align: middle;\n",
       "    }\n",
       "\n",
       "    .dataframe tbody tr th {\n",
       "        vertical-align: top;\n",
       "    }\n",
       "\n",
       "    .dataframe thead th {\n",
       "        text-align: right;\n",
       "    }\n",
       "</style>\n",
       "<table border=\"1\" class=\"dataframe\">\n",
       "  <thead>\n",
       "    <tr style=\"text-align: right;\">\n",
       "      <th></th>\n",
       "      <th>TYPEÃtico</th>\n",
       "      <th>TYPECasa.de.pueblo</th>\n",
       "      <th>TYPECasa.o.chalet.independiente</th>\n",
       "      <th>TYPECasa.rural</th>\n",
       "      <th>TYPECasa.rÃºstica</th>\n",
       "      <th>TYPECasa.terrera</th>\n",
       "      <th>TYPECaserÃ³n</th>\n",
       "      <th>TYPECastillo</th>\n",
       "      <th>TYPEChalet</th>\n",
       "      <th>TYPEChalet.adosado</th>\n",
       "      <th>...</th>\n",
       "      <th>AREA</th>\n",
       "      <th>FLOOR</th>\n",
       "      <th>LOCATIONexterior</th>\n",
       "      <th>LOCATIONinterior</th>\n",
       "      <th>ELEVATORFalse</th>\n",
       "      <th>PRICE</th>\n",
       "      <th>GARAGEFALSE</th>\n",
       "      <th>POPULATION</th>\n",
       "      <th>RENT_PRICE</th>\n",
       "      <th>PROFITABILITY</th>\n",
       "    </tr>\n",
       "  </thead>\n",
       "  <tbody>\n",
       "    <tr>\n",
       "      <th>0</th>\n",
       "      <td>0</td>\n",
       "      <td>0</td>\n",
       "      <td>0</td>\n",
       "      <td>0</td>\n",
       "      <td>0</td>\n",
       "      <td>0</td>\n",
       "      <td>0</td>\n",
       "      <td>0</td>\n",
       "      <td>0</td>\n",
       "      <td>0</td>\n",
       "      <td>...</td>\n",
       "      <td>116.0</td>\n",
       "      <td>2</td>\n",
       "      <td>1</td>\n",
       "      <td>0</td>\n",
       "      <td>0</td>\n",
       "      <td>185000.0</td>\n",
       "      <td>0</td>\n",
       "      <td>244700</td>\n",
       "      <td>924.911560</td>\n",
       "      <td>0.059994</td>\n",
       "    </tr>\n",
       "    <tr>\n",
       "      <th>1</th>\n",
       "      <td>0</td>\n",
       "      <td>0</td>\n",
       "      <td>0</td>\n",
       "      <td>0</td>\n",
       "      <td>0</td>\n",
       "      <td>0</td>\n",
       "      <td>0</td>\n",
       "      <td>0</td>\n",
       "      <td>0</td>\n",
       "      <td>0</td>\n",
       "      <td>...</td>\n",
       "      <td>88.0</td>\n",
       "      <td>2</td>\n",
       "      <td>1</td>\n",
       "      <td>0</td>\n",
       "      <td>1</td>\n",
       "      <td>120000.0</td>\n",
       "      <td>0</td>\n",
       "      <td>244700</td>\n",
       "      <td>782.663025</td>\n",
       "      <td>0.078266</td>\n",
       "    </tr>\n",
       "    <tr>\n",
       "      <th>2</th>\n",
       "      <td>0</td>\n",
       "      <td>0</td>\n",
       "      <td>0</td>\n",
       "      <td>0</td>\n",
       "      <td>0</td>\n",
       "      <td>0</td>\n",
       "      <td>0</td>\n",
       "      <td>0</td>\n",
       "      <td>0</td>\n",
       "      <td>0</td>\n",
       "      <td>...</td>\n",
       "      <td>75.0</td>\n",
       "      <td>1</td>\n",
       "      <td>1</td>\n",
       "      <td>0</td>\n",
       "      <td>0</td>\n",
       "      <td>149999.0</td>\n",
       "      <td>0</td>\n",
       "      <td>244700</td>\n",
       "      <td>737.221313</td>\n",
       "      <td>0.058978</td>\n",
       "    </tr>\n",
       "    <tr>\n",
       "      <th>3</th>\n",
       "      <td>0</td>\n",
       "      <td>0</td>\n",
       "      <td>0</td>\n",
       "      <td>0</td>\n",
       "      <td>0</td>\n",
       "      <td>0</td>\n",
       "      <td>0</td>\n",
       "      <td>0</td>\n",
       "      <td>0</td>\n",
       "      <td>0</td>\n",
       "      <td>...</td>\n",
       "      <td>90.0</td>\n",
       "      <td>4</td>\n",
       "      <td>1</td>\n",
       "      <td>0</td>\n",
       "      <td>0</td>\n",
       "      <td>235000.0</td>\n",
       "      <td>0</td>\n",
       "      <td>244700</td>\n",
       "      <td>858.786682</td>\n",
       "      <td>0.043853</td>\n",
       "    </tr>\n",
       "    <tr>\n",
       "      <th>4</th>\n",
       "      <td>0</td>\n",
       "      <td>0</td>\n",
       "      <td>0</td>\n",
       "      <td>0</td>\n",
       "      <td>0</td>\n",
       "      <td>0</td>\n",
       "      <td>0</td>\n",
       "      <td>0</td>\n",
       "      <td>0</td>\n",
       "      <td>0</td>\n",
       "      <td>...</td>\n",
       "      <td>100.0</td>\n",
       "      <td>6</td>\n",
       "      <td>1</td>\n",
       "      <td>0</td>\n",
       "      <td>0</td>\n",
       "      <td>169000.0</td>\n",
       "      <td>0</td>\n",
       "      <td>244700</td>\n",
       "      <td>951.789673</td>\n",
       "      <td>0.067583</td>\n",
       "    </tr>\n",
       "    <tr>\n",
       "      <th>...</th>\n",
       "      <td>...</td>\n",
       "      <td>...</td>\n",
       "      <td>...</td>\n",
       "      <td>...</td>\n",
       "      <td>...</td>\n",
       "      <td>...</td>\n",
       "      <td>...</td>\n",
       "      <td>...</td>\n",
       "      <td>...</td>\n",
       "      <td>...</td>\n",
       "      <td>...</td>\n",
       "      <td>...</td>\n",
       "      <td>...</td>\n",
       "      <td>...</td>\n",
       "      <td>...</td>\n",
       "      <td>...</td>\n",
       "      <td>...</td>\n",
       "      <td>...</td>\n",
       "      <td>...</td>\n",
       "      <td>...</td>\n",
       "      <td>...</td>\n",
       "    </tr>\n",
       "    <tr>\n",
       "      <th>463695</th>\n",
       "      <td>0</td>\n",
       "      <td>0</td>\n",
       "      <td>1</td>\n",
       "      <td>0</td>\n",
       "      <td>0</td>\n",
       "      <td>0</td>\n",
       "      <td>0</td>\n",
       "      <td>0</td>\n",
       "      <td>0</td>\n",
       "      <td>0</td>\n",
       "      <td>...</td>\n",
       "      <td>220.0</td>\n",
       "      <td>-1</td>\n",
       "      <td>0</td>\n",
       "      <td>0</td>\n",
       "      <td>0</td>\n",
       "      <td>115000.0</td>\n",
       "      <td>1</td>\n",
       "      <td>2581</td>\n",
       "      <td>572.786133</td>\n",
       "      <td>0.059769</td>\n",
       "    </tr>\n",
       "    <tr>\n",
       "      <th>463696</th>\n",
       "      <td>0</td>\n",
       "      <td>0</td>\n",
       "      <td>0</td>\n",
       "      <td>0</td>\n",
       "      <td>0</td>\n",
       "      <td>0</td>\n",
       "      <td>0</td>\n",
       "      <td>0</td>\n",
       "      <td>0</td>\n",
       "      <td>0</td>\n",
       "      <td>...</td>\n",
       "      <td>175.0</td>\n",
       "      <td>-1</td>\n",
       "      <td>0</td>\n",
       "      <td>0</td>\n",
       "      <td>0</td>\n",
       "      <td>225000.0</td>\n",
       "      <td>0</td>\n",
       "      <td>2581</td>\n",
       "      <td>1377.246094</td>\n",
       "      <td>0.073453</td>\n",
       "    </tr>\n",
       "    <tr>\n",
       "      <th>463697</th>\n",
       "      <td>0</td>\n",
       "      <td>0</td>\n",
       "      <td>0</td>\n",
       "      <td>0</td>\n",
       "      <td>0</td>\n",
       "      <td>0</td>\n",
       "      <td>0</td>\n",
       "      <td>0</td>\n",
       "      <td>0</td>\n",
       "      <td>0</td>\n",
       "      <td>...</td>\n",
       "      <td>130.0</td>\n",
       "      <td>-1</td>\n",
       "      <td>0</td>\n",
       "      <td>0</td>\n",
       "      <td>0</td>\n",
       "      <td>130000.0</td>\n",
       "      <td>0</td>\n",
       "      <td>102</td>\n",
       "      <td>1489.233398</td>\n",
       "      <td>0.137468</td>\n",
       "    </tr>\n",
       "    <tr>\n",
       "      <th>463698</th>\n",
       "      <td>0</td>\n",
       "      <td>0</td>\n",
       "      <td>1</td>\n",
       "      <td>0</td>\n",
       "      <td>0</td>\n",
       "      <td>0</td>\n",
       "      <td>0</td>\n",
       "      <td>0</td>\n",
       "      <td>0</td>\n",
       "      <td>0</td>\n",
       "      <td>...</td>\n",
       "      <td>170.0</td>\n",
       "      <td>-1</td>\n",
       "      <td>0</td>\n",
       "      <td>0</td>\n",
       "      <td>0</td>\n",
       "      <td>120000.0</td>\n",
       "      <td>0</td>\n",
       "      <td>238</td>\n",
       "      <td>539.974854</td>\n",
       "      <td>0.053997</td>\n",
       "    </tr>\n",
       "    <tr>\n",
       "      <th>463699</th>\n",
       "      <td>0</td>\n",
       "      <td>0</td>\n",
       "      <td>0</td>\n",
       "      <td>0</td>\n",
       "      <td>0</td>\n",
       "      <td>0</td>\n",
       "      <td>0</td>\n",
       "      <td>0</td>\n",
       "      <td>0</td>\n",
       "      <td>1</td>\n",
       "      <td>...</td>\n",
       "      <td>121.0</td>\n",
       "      <td>-1</td>\n",
       "      <td>0</td>\n",
       "      <td>0</td>\n",
       "      <td>0</td>\n",
       "      <td>100000.0</td>\n",
       "      <td>0</td>\n",
       "      <td>238</td>\n",
       "      <td>155.142944</td>\n",
       "      <td>0.018617</td>\n",
       "    </tr>\n",
       "  </tbody>\n",
       "</table>\n",
       "<p>463700 rows × 846 columns</p>\n",
       "</div>"
      ],
      "text/plain": [
       "        TYPEÃtico  TYPECasa.de.pueblo  TYPECasa.o.chalet.independiente   \n",
       "0                0                   0                                0  \\\n",
       "1                0                   0                                0   \n",
       "2                0                   0                                0   \n",
       "3                0                   0                                0   \n",
       "4                0                   0                                0   \n",
       "...            ...                 ...                              ...   \n",
       "463695           0                   0                                1   \n",
       "463696           0                   0                                0   \n",
       "463697           0                   0                                0   \n",
       "463698           0                   0                                1   \n",
       "463699           0                   0                                0   \n",
       "\n",
       "        TYPECasa.rural  TYPECasa.rÃºstica  TYPECasa.terrera  TYPECaserÃ³n   \n",
       "0                    0                  0                 0             0  \\\n",
       "1                    0                  0                 0             0   \n",
       "2                    0                  0                 0             0   \n",
       "3                    0                  0                 0             0   \n",
       "4                    0                  0                 0             0   \n",
       "...                ...                ...               ...           ...   \n",
       "463695               0                  0                 0             0   \n",
       "463696               0                  0                 0             0   \n",
       "463697               0                  0                 0             0   \n",
       "463698               0                  0                 0             0   \n",
       "463699               0                  0                 0             0   \n",
       "\n",
       "        TYPECastillo  TYPEChalet  TYPEChalet.adosado  ...   AREA  FLOOR   \n",
       "0                  0           0                   0  ...  116.0      2  \\\n",
       "1                  0           0                   0  ...   88.0      2   \n",
       "2                  0           0                   0  ...   75.0      1   \n",
       "3                  0           0                   0  ...   90.0      4   \n",
       "4                  0           0                   0  ...  100.0      6   \n",
       "...              ...         ...                 ...  ...    ...    ...   \n",
       "463695             0           0                   0  ...  220.0     -1   \n",
       "463696             0           0                   0  ...  175.0     -1   \n",
       "463697             0           0                   0  ...  130.0     -1   \n",
       "463698             0           0                   0  ...  170.0     -1   \n",
       "463699             0           0                   1  ...  121.0     -1   \n",
       "\n",
       "        LOCATIONexterior  LOCATIONinterior  ELEVATORFalse     PRICE   \n",
       "0                      1                 0              0  185000.0  \\\n",
       "1                      1                 0              1  120000.0   \n",
       "2                      1                 0              0  149999.0   \n",
       "3                      1                 0              0  235000.0   \n",
       "4                      1                 0              0  169000.0   \n",
       "...                  ...               ...            ...       ...   \n",
       "463695                 0                 0              0  115000.0   \n",
       "463696                 0                 0              0  225000.0   \n",
       "463697                 0                 0              0  130000.0   \n",
       "463698                 0                 0              0  120000.0   \n",
       "463699                 0                 0              0  100000.0   \n",
       "\n",
       "        GARAGEFALSE  POPULATION   RENT_PRICE  PROFITABILITY  \n",
       "0                 0      244700   924.911560       0.059994  \n",
       "1                 0      244700   782.663025       0.078266  \n",
       "2                 0      244700   737.221313       0.058978  \n",
       "3                 0      244700   858.786682       0.043853  \n",
       "4                 0      244700   951.789673       0.067583  \n",
       "...             ...         ...          ...            ...  \n",
       "463695            1        2581   572.786133       0.059769  \n",
       "463696            0        2581  1377.246094       0.073453  \n",
       "463697            0         102  1489.233398       0.137468  \n",
       "463698            0         238   539.974854       0.053997  \n",
       "463699            0         238   155.142944       0.018617  \n",
       "\n",
       "[463700 rows x 846 columns]"
      ]
     },
     "execution_count": 45,
     "metadata": {},
     "output_type": "execute_result"
    }
   ],
   "source": [
    "sold_predicted"
   ]
  },
  {
   "cell_type": "code",
   "execution_count": 46,
   "id": "5360e551-1cd3-40b4-8ef7-b2cd352296dd",
   "metadata": {
    "tags": []
   },
   "outputs": [
    {
     "data": {
      "text/html": [
       "<style>#sk-container-id-2 {color: black;background-color: white;}#sk-container-id-2 pre{padding: 0;}#sk-container-id-2 div.sk-toggleable {background-color: white;}#sk-container-id-2 label.sk-toggleable__label {cursor: pointer;display: block;width: 100%;margin-bottom: 0;padding: 0.3em;box-sizing: border-box;text-align: center;}#sk-container-id-2 label.sk-toggleable__label-arrow:before {content: \"▸\";float: left;margin-right: 0.25em;color: #696969;}#sk-container-id-2 label.sk-toggleable__label-arrow:hover:before {color: black;}#sk-container-id-2 div.sk-estimator:hover label.sk-toggleable__label-arrow:before {color: black;}#sk-container-id-2 div.sk-toggleable__content {max-height: 0;max-width: 0;overflow: hidden;text-align: left;background-color: #f0f8ff;}#sk-container-id-2 div.sk-toggleable__content pre {margin: 0.2em;color: black;border-radius: 0.25em;background-color: #f0f8ff;}#sk-container-id-2 input.sk-toggleable__control:checked~div.sk-toggleable__content {max-height: 200px;max-width: 100%;overflow: auto;}#sk-container-id-2 input.sk-toggleable__control:checked~label.sk-toggleable__label-arrow:before {content: \"▾\";}#sk-container-id-2 div.sk-estimator input.sk-toggleable__control:checked~label.sk-toggleable__label {background-color: #d4ebff;}#sk-container-id-2 div.sk-label input.sk-toggleable__control:checked~label.sk-toggleable__label {background-color: #d4ebff;}#sk-container-id-2 input.sk-hidden--visually {border: 0;clip: rect(1px 1px 1px 1px);clip: rect(1px, 1px, 1px, 1px);height: 1px;margin: -1px;overflow: hidden;padding: 0;position: absolute;width: 1px;}#sk-container-id-2 div.sk-estimator {font-family: monospace;background-color: #f0f8ff;border: 1px dotted black;border-radius: 0.25em;box-sizing: border-box;margin-bottom: 0.5em;}#sk-container-id-2 div.sk-estimator:hover {background-color: #d4ebff;}#sk-container-id-2 div.sk-parallel-item::after {content: \"\";width: 100%;border-bottom: 1px solid gray;flex-grow: 1;}#sk-container-id-2 div.sk-label:hover label.sk-toggleable__label {background-color: #d4ebff;}#sk-container-id-2 div.sk-serial::before {content: \"\";position: absolute;border-left: 1px solid gray;box-sizing: border-box;top: 0;bottom: 0;left: 50%;z-index: 0;}#sk-container-id-2 div.sk-serial {display: flex;flex-direction: column;align-items: center;background-color: white;padding-right: 0.2em;padding-left: 0.2em;position: relative;}#sk-container-id-2 div.sk-item {position: relative;z-index: 1;}#sk-container-id-2 div.sk-parallel {display: flex;align-items: stretch;justify-content: center;background-color: white;position: relative;}#sk-container-id-2 div.sk-item::before, #sk-container-id-2 div.sk-parallel-item::before {content: \"\";position: absolute;border-left: 1px solid gray;box-sizing: border-box;top: 0;bottom: 0;left: 50%;z-index: -1;}#sk-container-id-2 div.sk-parallel-item {display: flex;flex-direction: column;z-index: 1;position: relative;background-color: white;}#sk-container-id-2 div.sk-parallel-item:first-child::after {align-self: flex-end;width: 50%;}#sk-container-id-2 div.sk-parallel-item:last-child::after {align-self: flex-start;width: 50%;}#sk-container-id-2 div.sk-parallel-item:only-child::after {width: 0;}#sk-container-id-2 div.sk-dashed-wrapped {border: 1px dashed gray;margin: 0 0.4em 0.5em 0.4em;box-sizing: border-box;padding-bottom: 0.4em;background-color: white;}#sk-container-id-2 div.sk-label label {font-family: monospace;font-weight: bold;display: inline-block;line-height: 1.2em;}#sk-container-id-2 div.sk-label-container {text-align: center;}#sk-container-id-2 div.sk-container {/* jupyter's `normalize.less` sets `[hidden] { display: none; }` but bootstrap.min.css set `[hidden] { display: none !important; }` so we also need the `!important` here to be able to override the default hidden behavior on the sphinx rendered scikit-learn.org. See: https://github.com/scikit-learn/scikit-learn/issues/21755 */display: inline-block !important;position: relative;}#sk-container-id-2 div.sk-text-repr-fallback {display: none;}</style><div id=\"sk-container-id-2\" class=\"sk-top-container\"><div class=\"sk-text-repr-fallback\"><pre>XGBRegressor(base_score=None, booster=None, callbacks=None,\n",
       "             colsample_bylevel=None, colsample_bynode=None,\n",
       "             colsample_bytree=None, early_stopping_rounds=None,\n",
       "             enable_categorical=False, eval_metric=None, feature_types=None,\n",
       "             gamma=None, gpu_id=None, grow_policy=None, importance_type=None,\n",
       "             interaction_constraints=None, learning_rate=0.05, max_bin=None,\n",
       "             max_cat_threshold=None, max_cat_to_onehot=None,\n",
       "             max_delta_step=None, max_depth=25, max_leaves=None,\n",
       "             min_child_weight=None, missing=nan, monotone_constraints=None,\n",
       "             n_estimators=500, n_jobs=None, num_parallel_tree=None,\n",
       "             predictor=None, random_state=None, ...)</pre><b>In a Jupyter environment, please rerun this cell to show the HTML representation or trust the notebook. <br />On GitHub, the HTML representation is unable to render, please try loading this page with nbviewer.org.</b></div><div class=\"sk-container\" hidden><div class=\"sk-item\"><div class=\"sk-estimator sk-toggleable\"><input class=\"sk-toggleable__control sk-hidden--visually\" id=\"sk-estimator-id-2\" type=\"checkbox\" checked><label for=\"sk-estimator-id-2\" class=\"sk-toggleable__label sk-toggleable__label-arrow\">XGBRegressor</label><div class=\"sk-toggleable__content\"><pre>XGBRegressor(base_score=None, booster=None, callbacks=None,\n",
       "             colsample_bylevel=None, colsample_bynode=None,\n",
       "             colsample_bytree=None, early_stopping_rounds=None,\n",
       "             enable_categorical=False, eval_metric=None, feature_types=None,\n",
       "             gamma=None, gpu_id=None, grow_policy=None, importance_type=None,\n",
       "             interaction_constraints=None, learning_rate=0.05, max_bin=None,\n",
       "             max_cat_threshold=None, max_cat_to_onehot=None,\n",
       "             max_delta_step=None, max_depth=25, max_leaves=None,\n",
       "             min_child_weight=None, missing=nan, monotone_constraints=None,\n",
       "             n_estimators=500, n_jobs=None, num_parallel_tree=None,\n",
       "             predictor=None, random_state=None, ...)</pre></div></div></div></div></div>"
      ],
      "text/plain": [
       "XGBRegressor(base_score=None, booster=None, callbacks=None,\n",
       "             colsample_bylevel=None, colsample_bynode=None,\n",
       "             colsample_bytree=None, early_stopping_rounds=None,\n",
       "             enable_categorical=False, eval_metric=None, feature_types=None,\n",
       "             gamma=None, gpu_id=None, grow_policy=None, importance_type=None,\n",
       "             interaction_constraints=None, learning_rate=0.05, max_bin=None,\n",
       "             max_cat_threshold=None, max_cat_to_onehot=None,\n",
       "             max_delta_step=None, max_depth=25, max_leaves=None,\n",
       "             min_child_weight=None, missing=nan, monotone_constraints=None,\n",
       "             n_estimators=500, n_jobs=None, num_parallel_tree=None,\n",
       "             predictor=None, random_state=None, ...)"
      ]
     },
     "execution_count": 46,
     "metadata": {},
     "output_type": "execute_result"
    }
   ],
   "source": [
    "import xgboost as xgb\n",
    "model_overfit = xgb.XGBRegressor(objective ='reg:squarederror', learning_rate = 0.05, max_depth = 25, reg_lambda = 0, n_estimators = 500, use_rmm=True)\n",
    "model_overfit.fit(sold_predicted.drop(['PROFITABILITY','RENT_PRICE','PRICE'],axis=1),sold_predicted['PROFITABILITY'])\n"
   ]
  },
  {
   "cell_type": "code",
   "execution_count": 47,
   "id": "0d24a8f6-3a02-4a43-a0ce-44dd573fcc6f",
   "metadata": {
    "tags": []
   },
   "outputs": [
    {
     "name": "stderr",
     "output_type": "stream",
     "text": [
      "/Library/Frameworks/Python.framework/Versions/3.11/lib/python3.11/site-packages/IPython/core/events.py:89: UserWarning: Glyph 129 (\\x81) missing from current font.\n",
      "  func(*args, **kwargs)\n",
      "/Library/Frameworks/Python.framework/Versions/3.11/lib/python3.11/site-packages/IPython/core/pylabtools.py:152: UserWarning: Glyph 129 (\\x81) missing from current font.\n",
      "  fig.canvas.print_figure(bytes_io, **kw)\n"
     ]
    },
    {
     "data": {
      "image/png": "[encoded data removed]",
      "text/plain": [
       "<Figure size 600x1000 with 1 Axes>"
      ]
     },
     "metadata": {},
     "output_type": "display_data"
    }
   ],
   "source": [
    "ax = xgboost.plot_importance(model_overfit,max_num_features=50, importance_type=\"weight\")\n",
    "fig = ax.figure\n",
    "fig.set_size_inches(6, 10)"
   ]
  },
  {
   "cell_type": "code",
   "execution_count": 49,
   "id": "771148f7-11a8-4c1a-8bbd-140d56f86342",
   "metadata": {
    "tags": []
   },
   "outputs": [],
   "source": [
    "predictions_ = model_overfit.predict(sold_predicted.drop(['PROFITABILITY','RENT_PRICE','PRICE'],axis=1))"
   ]
  },
  {
   "cell_type": "code",
   "execution_count": null,
   "id": "3bd8cbdf-2149-4965-ad23-0d5f5e5ec626",
   "metadata": {},
   "outputs": [],
   "source": [
    "r2_score(predictions_, sold_predicted['PROFITABILITY'])"
   ]
  },
  {
   "cell_type": "code",
   "execution_count": null,
   "id": "11b110b1-4bea-4769-9dbf-786827522421",
   "metadata": {},
   "outputs": [],
   "source": [
    "# MIrar correlaciones de variables con el precio. -> mirar sentido de la variable (es mejor invertir en pisos con + o - area?)\n",
    "# Incluir flat rate del precio de suelo. Tambien coste fijo de tipo de casa"
   ]
  }
 ],
 "metadata": {
  "kernelspec": {
   "display_name": "Python 3 (ipykernel)",
   "language": "python",
   "name": "python3"
  },
  "language_info": {
   "codemirror_mode": {
    "name": "ipython",
    "version": 3
   },
   "file_extension": ".py",
   "mimetype": "text/x-python",
   "name": "python",
   "nbconvert_exporter": "python",
   "pygments_lexer": "ipython3",
   "version": "3.11.3"
  }
 },
 "nbformat": 4,
 "nbformat_minor": 5
}
